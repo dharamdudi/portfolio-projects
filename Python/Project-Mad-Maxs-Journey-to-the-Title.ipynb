{
 "cells": [
  {
   "cell_type": "markdown",
   "metadata": {},
   "source": [
    "# Mad Max's Journey to the Title. Max Verstappen vs Lewis Hamilton\n",
    "\n",
    "![](https://lh3.googleusercontent.com/THbrMwV_5p_WTumGzkCJpYz8UlElGpXk8HTPmCL3jdAsRMrO9MacvMbuevysfIlE_NSFiaQ5tUWuF5uYiYQcdo99OLNy7HA=s1349)\n",
    "\n",
    "`\"This Race started with Controversy has ended with Controversy\"`\n",
    "\n",
    "Following the controversial win by Max Verstappen in the final moments of the Abu Dhabi Grand Prix. This project explores different statistics of both the drivers Max & Lewis Hamilton.\n",
    "\n",
    "The data is extracted from the F1 2021 championship wikipedia page. First we will extract the data-tables from the wikipedia web pages and after that we will extract the required data tables in data-frames format. After some data cleaning and data preparation, we will try to analyze the tables keeping in eye the two key drivers Max and Lewis"
   ]
  },
  {
   "cell_type": "markdown",
   "metadata": {},
   "source": [
    "Let's begin by importing libraries "
   ]
  },
  {
   "cell_type": "code",
   "execution_count": 1,
   "metadata": {},
   "outputs": [],
   "source": [
    "import math\n",
    "import numpy as np\n",
    "import pandas as pd\n",
    "import matplotlib\n",
    "import matplotlib.pyplot as plt\n",
    "import seaborn as sns\n",
    "import requests\n",
    "%matplotlib inline\n",
    "\n",
    "sns.set_style('darkgrid')\n",
    "matplotlib.rcParams['font.size'] = 12\n",
    "matplotlib.rcParams['figure.figsize'] = (9, 5)\n",
    "matplotlib.rcParams['figure.facecolor'] = '#00000000'"
   ]
  },
  {
   "cell_type": "markdown",
   "metadata": {
    "heading_collapsed": true
   },
   "source": [
    "## Downloading the Dataset\n",
    "We will download/extract our dataset from `Wikipedia`. For this we will use `requests` library.\n",
    "For extracting data, first we load the data-frames of each url in a list and after that we assign required tables from each data-frame to different list `season`.\n",
    "\n",
    "Urls of the web pages from which the data will be acquired"
   ]
  },
  {
   "cell_type": "code",
   "execution_count": 2,
   "metadata": {
    "hidden": true
   },
   "outputs": [],
   "source": [
    "final_season_result_url = 'https://en.wikipedia.org/wiki/2021_Formula_One_World_Championship'\n",
    "urls=['https://en.wikipedia.org/wiki/2021_Bahrain_Grand_Prix',\n",
    "      'https://en.wikipedia.org/wiki/2021_Emilia_Romagna_Grand_Prix',\n",
    "      'https://en.wikipedia.org/wiki/2021_Portuguese_Grand_Prix',\n",
    "      'https://en.wikipedia.org/wiki/2021_Spanish_Grand_Prix',\n",
    "      'https://en.wikipedia.org/wiki/2021_Monaco_Grand_Prix',\n",
    "      'https://en.wikipedia.org/wiki/2021_Azerbaijan_Grand_Prix',\n",
    "      'https://en.wikipedia.org/wiki/2021_French_Grand_Prix',\n",
    "      'https://en.wikipedia.org/wiki/2021_Styrian_Grand_Prix',\n",
    "      'https://en.wikipedia.org/wiki/2021_Austrian_Grand_Prix',\n",
    "      'https://en.wikipedia.org/wiki/2021_British_Grand_Prix',\n",
    "      'https://en.wikipedia.org/wiki/2021_Hungarian_Grand_Prix',\n",
    "      'https://en.wikipedia.org/wiki/2021_Belgian_Grand_Prix',\n",
    "      'https://en.wikipedia.org/wiki/2021_Dutch_Grand_Prix',\n",
    "      'https://en.wikipedia.org/wiki/2021_Italian_Grand_Prix',\n",
    "      'https://en.wikipedia.org/wiki/2021_Russian_Grand_Prix',\n",
    "      'https://en.wikipedia.org/wiki/2021_Turkish_Grand_Prix',\n",
    "      'https://en.wikipedia.org/wiki/2021_United_States_Grand_Prix',\n",
    "      'https://en.wikipedia.org/wiki/2021_Mexico_City_Grand_Prix',\n",
    "      'https://en.wikipedia.org/wiki/2021_S%C3%A3o_Paulo_Grand_Prix',\n",
    "      'https://en.wikipedia.org/wiki/2021_Qatar_Grand_Prix',\n",
    "      'https://en.wikipedia.org/wiki/2021_Saudi_Arabian_Grand_Prix',\n",
    "      'https://en.wikipedia.org/wiki/2021_Abu_Dhabi_Grand_Prix']"
   ]
  },
  {
   "cell_type": "code",
   "execution_count": 3,
   "metadata": {
    "hidden": true
   },
   "outputs": [],
   "source": [
    "#Data reading from the web pages\n",
    "df=[pd.read_html(requests.get(final_season_result_url).content)]\n",
    "for url in urls:\n",
    "    df.append(pd.read_html(requests.get(url).content))"
   ]
  },
  {
   "cell_type": "code",
   "execution_count": 4,
   "metadata": {
    "hidden": true
   },
   "outputs": [],
   "source": [
    "#Creating a array of required data frames\n",
    "season=[]\n",
    "for dataframes in df:\n",
    "    race=dict(qual=dataframes[2],race=dataframes[3])\n",
    "    season.append(race)"
   ]
  },
  {
   "cell_type": "markdown",
   "metadata": {
    "hidden": true
   },
   "source": [
    "Correction for some races as there were `sprint races` held in some GPs (GP 10, 14 ,19)."
   ]
  },
  {
   "cell_type": "code",
   "execution_count": 5,
   "metadata": {
    "hidden": true
   },
   "outputs": [],
   "source": [
    "season[10]['qual']=df[10][3];season[10]['race']=df[10][5];season[10]['sprint']=df[10][4]\n",
    "season[12]['qual']=df[12][3];season[12]['race']=df[12][4]\n",
    "season[14]['race']=df[14][4];season[14]['sprint']=df[14][3]\n",
    "season[19]['race']=df[19][4];season[19]['sprint']=df[19][3]"
   ]
  },
  {
   "cell_type": "markdown",
   "metadata": {
    "heading_collapsed": true
   },
   "source": [
    "## Data Preparation & Cleaning \n",
    "Our data contains 4 types of data-frames: Season Overview, Qualifying, Final Race and Sprint Race for some races. We removed some columns and row entries which were of no use, using `drop` command. Also we changed the column names. After that we handled some exception cases in data entries. We concluded this process with changing the data types of columns to suitable data types using `astype`."
   ]
  },
  {
   "cell_type": "markdown",
   "metadata": {
    "hidden": true
   },
   "source": [
    "In the season overview data-frame, we removed the column of report and also the last row entry."
   ]
  },
  {
   "cell_type": "code",
   "execution_count": 6,
   "metadata": {
    "hidden": true
   },
   "outputs": [],
   "source": [
    "season[0]['race'].drop(columns=['.mw-parser-output .tooltip-dotted{border-bottom:1px dotted;cursor:help}Report'],inplace=True)\n",
    "season[0]['race'].drop([22],axis=0,inplace=True)\n",
    "season[0]['race'].columns=['Round','Grand_Prix','Pole_Position','Fastest_Lap','Winning_Driver','Winning_Constructor']"
   ]
  },
  {
   "cell_type": "code",
   "execution_count": 7,
   "metadata": {
    "hidden": true
   },
   "outputs": [],
   "source": [
    "season[0]['race'].at[4,'Pole_Position']='Charles Leclerc';\n",
    "season[0]['race'].at[11,'Fastest_Lap']='None Recognised';\n",
    "season[0]['race'].at[13,'Pole_Position']='Max Verstappen';\n",
    "season[0]['race'].at[15,'Pole_Position']='Valtteri Bottas'"
   ]
  },
  {
   "cell_type": "markdown",
   "metadata": {
    "hidden": true
   },
   "source": [
    "### Qualifying Data Cleaning\n",
    "We removed the first column and also changed the name of columns along with correction in data entries also."
   ]
  },
  {
   "cell_type": "markdown",
   "metadata": {
    "hidden": true
   },
   "source": [
    "Removing the first column and also 2 rows which are of no use to us."
   ]
  },
  {
   "cell_type": "code",
   "execution_count": 8,
   "metadata": {
    "hidden": true
   },
   "outputs": [
    {
     "name": "stderr",
     "output_type": "stream",
     "text": [
      "/opt/conda/lib/python3.9/site-packages/pandas/core/generic.py:4150: PerformanceWarning: dropping on a non-lexsorted multi-index without a level parameter may impact performance.\n",
      "  obj = obj._drop_axis(labels, axis, level=level, errors=errors)\n"
     ]
    }
   ],
   "source": [
    "temp=[2,5,11]\n",
    "for i in temp:\n",
    "    season[i]['qual'].drop([19,21],axis=0,inplace=True); season[i]['qual']=season[i]['qual'].reset_index()\n",
    "    season[i]['qual'].drop(columns=['.mw-parser-output .tooltip-dotted{border-bottom:1px dotted;cursor:help}Pos.','index'],inplace=True)"
   ]
  },
  {
   "cell_type": "code",
   "execution_count": 9,
   "metadata": {
    "hidden": true
   },
   "outputs": [],
   "source": [
    "temp=[6,7]\n",
    "for i in temp:\n",
    "    season[i]['qual'].drop([18,21],axis=0,inplace=True); season[i]['qual']=season[i]['qual'].reset_index()\n",
    "    season[i]['qual'].drop(columns=['.mw-parser-output .tooltip-dotted{border-bottom:1px dotted;cursor:help}Pos.','index'],inplace=True)"
   ]
  },
  {
   "cell_type": "code",
   "execution_count": 10,
   "metadata": {
    "hidden": true
   },
   "outputs": [],
   "source": [
    "temp=[1,3,4,8,9,10,12,13,14,15,16,17,18,19,20,21,22]\n",
    "for i in temp:\n",
    "    season[i]['qual'].drop(columns=['.mw-parser-output .tooltip-dotted{border-bottom:1px dotted;cursor:help}Pos.'],inplace=True)\n",
    "    season[i]['qual'].drop([20,21],axis=0,inplace=True)"
   ]
  },
  {
   "cell_type": "markdown",
   "metadata": {
    "hidden": true
   },
   "source": [
    "Changing the Column names of the qualifying data-frame"
   ]
  },
  {
   "cell_type": "code",
   "execution_count": 11,
   "metadata": {
    "hidden": true
   },
   "outputs": [],
   "source": [
    "temp=[1,2,3,4,5,6,7,8,9,11,12,13,15,16,17,18,19,20,21,22]\n",
    "for i in temp:\n",
    "    season[i]['qual'].columns=['No','Driver','Constructor','Q1','Q2','Q3','Finalgrid']"
   ]
  },
  {
   "cell_type": "code",
   "execution_count": 12,
   "metadata": {
    "hidden": true
   },
   "outputs": [],
   "source": [
    "#Sprint Race GP\n",
    "temp=[10,14,19]\n",
    "for i in temp:\n",
    "    season[i]['qual'].columns=['No','Driver','Constructor','Q1','Q2','Q3','SQgrid']"
   ]
  },
  {
   "cell_type": "markdown",
   "metadata": {
    "hidden": true
   },
   "source": [
    "Editing Some data in specific qualifying data-frames, such as correcting name of `Nikita Mazepin` and modifying some data in `Finalgrid`"
   ]
  },
  {
   "cell_type": "code",
   "execution_count": 13,
   "metadata": {
    "hidden": true
   },
   "outputs": [],
   "source": [
    "season[1]['qual'].at[17,'Finalgrid']=20;season[1]['qual'].at[19,'Driver']='Nikita Mazepin'\n",
    "season[2]['qual'].at[19,'Finalgrid']=20;season[2]['qual'].at[18,'Driver']='Nikita Mazepin'\n",
    "season[3]['qual'].at[19,'Driver']='Nikita Mazepin'\n",
    "season[4]['qual'].at[19,'Finalgrid']=20;season[4]['qual'].at[19,'Driver']='Nikita Mazepin'\n",
    "season[5]['qual'].at[19,'Finalgrid']=20;season[5]['qual'].at[18,'Driver']='Nikita Mazepin'\n",
    "season[6]['qual'].at[5,'Finalgrid']=9;season[6]['qual'].at[18,'Finalgrid']=19;season[6]['qual'].at[19,'Finalgrid']=20;season[6]['qual'].at[17,'Driver']='Nikita Mazepin'\n",
    "season[7]['qual'].at[17,'Driver']='Nikita Mazepin';season[7]['qual'].at[18,'Finalgrid']=19;season[7]['qual'].at[19,'Finalgrid']='PL'\n",
    "season[8]['qual'].at[1,'Finalgrid']=5;season[8]['qual'].at[7,'Finalgrid']=11;season[8]['qual'].at[19,'Driver']='Nikita Mazepin'\n",
    "season[9]['qual'].at[19,'Driver']='Nikita Mazepin';season[9]['qual'].at[7,'Finalgrid']=11\n",
    "season[10]['qual'].at[19,'Driver']='Nikita Mazepin'\n",
    "season[11]['qual'].at[18,'Driver']='Nikita Mazepin';season[11]['qual'].at[19,'Finalgrid']=20\n",
    "season[12]['qual'].at[7,'Finalgrid']=13;season[12]['qual'].at[9,'Finalgrid']=15;season[12]['qual'].at[14,'Finalgrid']=19;season[12]['qual'].at[18,'Finalgrid']='PL';season[12]['qual'].at[19,'Driver']='Nikita Mazepin'\n",
    "season[13]['qual'].at[19,'Driver']='Nikita Mazepin';season[13]['qual'].at[13,'Finalgrid']='PL';season[13]['qual'].at[15,'Finalgrid']='PL'\n",
    "season[14]['qual'].at[19,'Driver']='Nikita Mazepin'\n",
    "season[15]['qual'].at[18,'Driver']='Nikita Mazepin';season[15]['qual'].at[6,'Finalgrid']=16;season[15]['qual'].at[13,'Finalgrid']=18;season[15]['qual'].at[14,'Finalgrid']=19;season[15]['qual'].at[17,'Finalgrid']=17;season[15]['qual'].at[19,'Finalgrid']=20\n",
    "season[16]['qual'].at[19,'Driver']='Nikita Mazepin';season[16]['qual'].at[0,'Finalgrid']=11;season[16]['qual'].at[14,'Finalgrid']=19;season[16]['qual'].at[15,'Finalgrid']=20;\n",
    "season[17]['qual'].at[19,'Driver']='Nikita Mazepin';season[17]['qual'].at[3,'Finalgrid']=9;season[17]['qual'].at[11,'Finalgrid']=18;season[17]['qual'].at[13,'Finalgrid']=19;season[17]['qual'].at[14,'Finalgrid']=20;\n",
    "season[18]['qual'].at[18,'Driver']='Nikita Mazepin';season[18]['qual'].at[8,'Finalgrid']=17;season[18]['qual'].at[9,'Finalgrid']=18;season[18]['qual'].at[12,'Finalgrid']=16;season[18]['qual'].at[14,'Finalgrid']=19;season[18]['qual'].at[19,'Finalgrid']=20;\n",
    "season[19]['qual'].at[18,'Driver']='Nikita Mazepin';season[19]['qual'].at[19,'SQgrid']=20\n",
    "season[20]['qual'].at[19,'Driver']='Nikita Mazepin';season[20]['qual'].at[1,'Finalgrid']=7;season[20]['qual'].at[2,'Finalgrid']=6;\n",
    "season[21]['qual'].at[19,'Driver']='Nikita Mazepin';\n",
    "season[22]['qual'].at[19,'Driver']='Nikita Mazepin';season[22]['qual'].at[19,'Finalgrid']=-1"
   ]
  },
  {
   "cell_type": "markdown",
   "metadata": {
    "hidden": true
   },
   "source": [
    "### Sprint Race Data Correction\n",
    "Removed the last two row entries and some minor correction in data entries"
   ]
  },
  {
   "cell_type": "code",
   "execution_count": 14,
   "metadata": {
    "hidden": true
   },
   "outputs": [],
   "source": [
    "temp=[10,14,19]\n",
    "for i in temp:\n",
    "    season[i]['sprint'].drop([20,21],axis=0,inplace=True)"
   ]
  },
  {
   "cell_type": "markdown",
   "metadata": {
    "hidden": true
   },
   "source": [
    "Correction in the name of `Nikita Mazepin` and some other data in `Finalgrid` column"
   ]
  },
  {
   "cell_type": "code",
   "execution_count": 15,
   "metadata": {
    "hidden": true
   },
   "outputs": [],
   "source": [
    "season[10]['sprint'].at[8,'Finalgrid']=12;season[10]['sprint'].at[18,'Driver']='Nikita Mazepin';season[10]['sprint'].at[19,'Finalgrid']='PL'\n",
    "season[14]['sprint'].at[0,'Finalgrid']=19;season[14]['sprint'].at[16,'Driver']='Nikita Mazepin';season[14]['sprint'].at[19,'Finalgrid']='PL'\n",
    "season[19]['sprint'].at[4,'Finalgrid']=10;season[19]['sprint'].at[17,'Finalgrid']='PL';season[19]['sprint'].at[19,'Driver']='Nikita Mazepin';"
   ]
  },
  {
   "cell_type": "markdown",
   "metadata": {
    "hidden": true
   },
   "source": [
    "### Final Race Data Preparation and Cleaning\n",
    "Removed the last two rows and some other minor data entry corrections followed by changing the column names."
   ]
  },
  {
   "cell_type": "code",
   "execution_count": 16,
   "metadata": {
    "hidden": true
   },
   "outputs": [],
   "source": [
    "for i in range(1,23):\n",
    "    season[i]['race'].drop([20,21],axis=0,inplace=True)"
   ]
  },
  {
   "cell_type": "markdown",
   "metadata": {
    "hidden": true
   },
   "source": [
    "Changing the columns name"
   ]
  },
  {
   "cell_type": "code",
   "execution_count": 17,
   "metadata": {
    "hidden": true
   },
   "outputs": [],
   "source": [
    "for i in range(1,23):\n",
    "    season[i]['race'].columns=['Pos','No','Driver','Constructor','Laps','Time/Retired','Grid','Points']"
   ]
  },
  {
   "cell_type": "markdown",
   "metadata": {
    "hidden": true
   },
   "source": [
    "Correcting the name of `Nikita Mazepin` and some other data entries"
   ]
  },
  {
   "cell_type": "code",
   "execution_count": 18,
   "metadata": {
    "hidden": true
   },
   "outputs": [],
   "source": [
    "season[1]['race'].at[2,'Points']=16;season[1]['race'].at[4,'Grid']='PL';season[1]['race'].at[19,'Driver']='Nikita Mazepin';\n",
    "season[1]['race'].at[16,'Pos']=17;season[1]['race'].at[17,'Pos']=18;\n",
    "season[2]['race'].at[1,'Points']=19;season[2]['race'].at[14,'Grid']='PL';season[2]['race'].at[16,'Driver']='Nikita Mazepin';\n",
    "season[2]['race'].at[14,'Pos']=15\n",
    "season[3]['race'].at[2,'Points']=16;season[3]['race'].at[18,'Driver']='Nikita Mazepin';\n",
    "season[4]['race'].at[1,'Points']=19;season[4]['race'].at[18,'Driver']='Nikita Mazepin';\n",
    "season[5]['race'].at[6,'Points']=7;season[5]['race'].at[16,'Driver']='Nikita Mazepin';\n",
    "season[6]['race'].at[16,'Pos']=17;season[6]['race'].at[17,'Pos']=18;season[6]['race'].at[13,'Driver']='Nikita Mazepin';\n",
    "season[7]['race'].at[0,'Points']=26;season[7]['race'].at[19,'Driver']='Nikita Mazepin';\n",
    "season[8]['race'].at[1,'Points']=19;season[8]['race'].at[17,'Driver']='Nikita Mazepin';\n",
    "season[9]['race'].at[0,'Points']=26;season[9]['race'].at[16,'Pos']=17;season[9]['race'].at[18,'Driver']='Nikita Mazepin';\n",
    "season[10]['race'].at[16,'Driver']='Nikita Mazepin';\n",
    "season[11]['race'].at[4,'Points']=11;season[11]['race'].at[12,'Grid']='PL';season[11]['race'].at[13,'Driver']='Nikita Mazepin';\n",
    "season[12]['race'].at[16,'Driver']='Nikita Mazepin';season[12]['race'].at[18,'Grid']='PL';\n",
    "season[13]['race'].at[1,'Points']=19;season[13]['race'].at[16,'Pos']=17;season[13]['race'].at[19,'Driver']='Nikita Mazepin';\n",
    "season[14]['race'].at[0,'Points']=26;season[14]['race'].at[15,'Driver']='Nikita Mazepin';\n",
    "season[15]['race'].at[6,'Points']=7;season[15]['race'].at[18,'Pos']=19;season[15]['race'].at[17,'Driver']='Nikita Mazepin';\n",
    "season[16]['race'].at[0,'Points']=26;season[16]['race'].at[19,'Driver']='Nikita Mazepin';\n",
    "season[17]['race'].at[1,'Points']=19;season[17]['race'].at[16,'Driver']='Nikita Mazepin';\n",
    "season[18]['race'].at[17,'Driver']='Nikita Mazepin';\n",
    "season[19]['race'].at[3,'Points']=13;season[19]['race'].at[16,'Driver']='Nikita Mazepin';\n",
    "season[20]['race'].at[1,'Points']=19;season[20]['race'].at[17,'Driver']='Nikita Mazepin';\n",
    "season[21]['race'].at[0,'Points']=26;season[21]['race'].at[17,'Driver']='Nikita Mazepin';\n",
    "season[22]['race'].at[0,'Points']=26;season[22]['race'].at[14,'Pos']=15;season[22]['race'].at[19,'Driver']='Nikita Mazepin';"
   ]
  },
  {
   "cell_type": "markdown",
   "metadata": {
    "hidden": true
   },
   "source": [
    "The final race data has been corrected and ready to use"
   ]
  },
  {
   "cell_type": "markdown",
   "metadata": {
    "hidden": true
   },
   "source": [
    "### Data Conversion"
   ]
  },
  {
   "cell_type": "code",
   "execution_count": 19,
   "metadata": {
    "hidden": true
   },
   "outputs": [],
   "source": [
    "# overall season data-frame\n",
    "season[0]['race']=season[0]['race'].astype({\"Round\":\"int64\",\"Grand_Prix\":\"string\",\"Pole_Position\":\"string\",\"Fastest_Lap\":\"string\",\"Winning_Driver\":\"string\",\"Winning_Constructor\":\"string\"},errors='ignore')"
   ]
  },
  {
   "cell_type": "code",
   "execution_count": 20,
   "metadata": {
    "hidden": true
   },
   "outputs": [],
   "source": [
    "temp=[1,2,3,4,5,6,7,8,9,11,12,13,15,16,17,18,20,21,22]\n",
    "for i in temp:\n",
    "    season[i]['qual']=season[i]['qual'].astype({\"No\":\"int64\",\"Driver\":\"string\",\"Constructor\":\"string\",\"Finalgrid\":\"float64\"},errors='ignore')\n",
    "    season[i]['race']=season[i]['race'].astype({\"Pos\":\"int64\",\"No\":\"int64\",\"Driver\":\"string\",\"Constructor\":\"string\",\"Laps\":\"float64\",\"Grid\":\"int64\",\"Points\":\"float64\"},errors='ignore')"
   ]
  },
  {
   "cell_type": "code",
   "execution_count": 21,
   "metadata": {
    "hidden": true
   },
   "outputs": [],
   "source": [
    "temp=[10,14,19]\n",
    "for i in temp:\n",
    "    season[i]['qual']=season[i]['qual'].astype({\"No\":\"int64\",\"Driver\":\"string\",\"Constructor\":\"string\",\"SQgrid\":\"float64\"},errors='ignore')\n",
    "    season[i]['sprint']=season[i]['sprint'].astype({\"Pos.\":\"int64\",\"No.\":\"int64\",\"Driver\":\"string\",\"Constructor\":\"string\",\"Laps\":\"float64\",\"Grid\":\"int64\",\"Points\":\"float64\",\"Finalgrid\":\"int64\"},errors='ignore')\n",
    "    season[i]['race']=season[i]['race'].astype({\"Pos\":\"int64\",\"No\":\"int64\",\"Driver\":\"string\",\"Constructor\":\"string\",\"Laps\":\"float64\",\"Grid\":\"int64\",\"Points\":\"float64\"},errors='ignore')"
   ]
  },
  {
   "cell_type": "markdown",
   "metadata": {
    "hidden": true
   },
   "source": [
    "### Creating some other datasets for further use"
   ]
  },
  {
   "cell_type": "code",
   "execution_count": 22,
   "metadata": {
    "hidden": true
   },
   "outputs": [],
   "source": [
    "maxvslewis_pts_df=season[0]['race'][['Round','Grand_Prix']].copy()"
   ]
  },
  {
   "cell_type": "code",
   "execution_count": 23,
   "metadata": {
    "hidden": true
   },
   "outputs": [],
   "source": [
    "#Qualifying Position Data\n",
    "temp=[1,2,3,4,5,6,7,8,9,11,12,13,15,16,17,18,20,21,22]\n",
    "for r in temp:\n",
    "    for i in range(0,20):\n",
    "        count=0\n",
    "        if season[r]['qual'].Driver[i]=='Max Verstappen':\n",
    "            if season[r]['qual'].Finalgrid[i]=='PL':\n",
    "                maxvslewis_pts_df.at[r-1,\"Max_Qual\"]=20\n",
    "            else:\n",
    "                maxvslewis_pts_df.at[r-1,\"Max_Qual\"]=season[r]['qual'].Finalgrid[i]\n",
    "            count=count+1\n",
    "        if season[r]['qual'].Driver[i]=='Lewis Hamilton':\n",
    "            if season[r]['qual'].Finalgrid[i]=='PL':\n",
    "                maxvslewis_pts_df.at[r-1,\"Lewis_Qual\"]=20\n",
    "            else:\n",
    "                maxvslewis_pts_df.at[r-1,\"Lewis_Qual\"]=season[r]['qual'].Finalgrid[i]\n",
    "            count=count+1\n",
    "        if count>=2:\n",
    "            break"
   ]
  },
  {
   "cell_type": "code",
   "execution_count": 24,
   "metadata": {
    "hidden": true
   },
   "outputs": [],
   "source": [
    "temp=[10,14,19]\n",
    "for r in temp:\n",
    "    for i in range(0,20):\n",
    "        count=0\n",
    "        if season[r]['qual'].Driver[i]=='Max Verstappen':\n",
    "            if season[r]['qual'].SQgrid[i]=='PL':\n",
    "                maxvslewis_pts_df.at[r-1,\"Max_Qual\"]=20\n",
    "            else:\n",
    "                maxvslewis_pts_df.at[r-1,\"Max_Qual\"]=season[r]['qual'].SQgrid[i]\n",
    "            count=count+1\n",
    "        if season[r]['qual'].Driver[i]=='Lewis Hamilton':\n",
    "            if season[r]['qual'].SQgrid[i]=='PL':\n",
    "                maxvslewis_pts_df.at[r-1,\"Lewis_Qual\"]=20\n",
    "            else:\n",
    "                maxvslewis_pts_df.at[r-1,\"Lewis_Qual\"]=season[r]['qual'].SQgrid[i]\n",
    "            count=count+1\n",
    "        if count>=2:\n",
    "            break"
   ]
  },
  {
   "cell_type": "code",
   "execution_count": 25,
   "metadata": {
    "hidden": true
   },
   "outputs": [],
   "source": [
    "# final race data\n",
    "for r in range(1,23):\n",
    "    for i in range(0,20):\n",
    "        count=0;\n",
    "        if season[r]['race'].Driver[i]=='Max Verstappen':\n",
    "            if season[r]['race'].Pos[i]=='Ret':\n",
    "                maxvslewis_pts_df.at[r-1,\"Max_Pos\"]=20\n",
    "            else:\n",
    "                maxvslewis_pts_df.at[r-1,\"Max_Pos\"]=season[r]['race'].Pos[i]\n",
    "            \n",
    "            if season[r]['race'].Points[i]=='Nan':\n",
    "                maxvslewis_pts_df.at[r-1,\"Max_Pts\"]=0\n",
    "            else:\n",
    "                maxvslewis_pts_df.at[r-1,\"Max_Pts\"]=season[r]['race'].Points[i]\n",
    "            \n",
    "            count=count+1;\n",
    "        \n",
    "        if season[r]['race'].Driver[i]=='Lewis Hamilton':\n",
    "            if season[r]['race'].Pos[i]=='Ret':\n",
    "                maxvslewis_pts_df.at[r-1,\"Lewis_Pos\"]=20\n",
    "            else:\n",
    "                maxvslewis_pts_df.at[r-1,\"Lewis_Pos\"]=season[r]['race'].Pos[i]\n",
    "            \n",
    "            if season[r]['race'].Points[i]=='Nan':\n",
    "                maxvslewis_pts_df.at[r-1,\"Lewis_Pts\"]=0\n",
    "            else:\n",
    "                maxvslewis_pts_df.at[r-1,\"Lewis_Pts\"]=season[r]['race'].Points[i]\n",
    "            \n",
    "            count=count+1;\n",
    "        \n",
    "        if count>=2:\n",
    "            break"
   ]
  },
  {
   "cell_type": "code",
   "execution_count": 26,
   "metadata": {
    "hidden": true
   },
   "outputs": [],
   "source": [
    "# sprint race data updation\n",
    "temp=[10,14,19]\n",
    "for i in temp:\n",
    "    for j in range(0,20):\n",
    "        count=0\n",
    "        if season[i]['sprint'].Driver[j]=='Max Verstappen':\n",
    "            if math.isnan(season[i]['sprint'].Points[j]):\n",
    "                maxvslewis_pts_df.at[i-1,\"Max_Pts\"]=maxvslewis_pts_df.Max_Pts[i-1]\n",
    "            elif math.isnan(maxvslewis_pts_df.Max_Pts[i-1]):\n",
    "                maxvslewis_pts_df.at[i-1,\"Max_Pts\"]=season[i]['sprint'].Points[j]\n",
    "            else:\n",
    "                maxvslewis_pts_df.at[i-1,\"Max_Pts\"]=maxvslewis_pts_df.Max_Pts[i-1]+season[i]['sprint'].Points[j]\n",
    "            count=count+1\n",
    "        if season[i]['sprint'].Driver[j]=='Lewis Hamilton':\n",
    "            if math.isnan(season[i]['sprint'].Points[j]):\n",
    "                maxvslewis_pts_df.at[i-1,\"Lewis_Pts\"]=maxvslewis_pts_df.Lewis_Pts[i-1]\n",
    "            elif math.isnan(maxvslewis_pts_df.Lewis_Pts[i-1]):\n",
    "                maxvslewis_pts_df.at[i-1,\"Lewis_Pts\"]=season[i]['sprint'].Points[j]\n",
    "            else:\n",
    "                maxvslewis_pts_df.at[i-1,\"Lewis_Pts\"]=maxvslewis_pts_df.Lewis_Pts[i-1]+season[i]['sprint'].Points[j]\n",
    "            count=count+1\n",
    "        if count>=2:\n",
    "            break"
   ]
  },
  {
   "cell_type": "code",
   "execution_count": 27,
   "metadata": {
    "hidden": true
   },
   "outputs": [],
   "source": [
    "maxvslewis_pts_df['Lewis_Pts']=maxvslewis_pts_df.Lewis_Pts.fillna(0)\n",
    "maxvslewis_pts_df['Max_Pts']=maxvslewis_pts_df.Max_Pts.fillna(0)\n",
    "maxvslewis_pts_df[\"Lewis_Pts_cum\"]=maxvslewis_pts_df.Lewis_Pts.cumsum()\n",
    "maxvslewis_pts_df[\"Max_Pts_cum\"]=maxvslewis_pts_df.Max_Pts.cumsum()\n",
    "maxvslewis_pts_df=maxvslewis_pts_df.astype({\"Lewis_Pos\":\"int64\",\"Max_Pos\":\"int64\"},errors='ignore')"
   ]
  },
  {
   "cell_type": "markdown",
   "metadata": {
    "heading_collapsed": true,
    "hidden": true
   },
   "source": [
    "### Data Summary\n",
    "\n",
    "There were total `22 GPs` held in `F1 2021` season. Out of which there were only `3 GPs` in which `sprint races` were held. `(GP 10, 14 ,19)`. We have a total of `22 qualifying` data-frames, `22 final race` data-frames and `3 sprint race` data-frames. Also we have a season overview data-frame. So. in total we have `46 data-frames`. Any other data-frame is derived from these data-frames\n",
    "\n",
    "Further we have created some more data-frames derived from these above stated data-frames."
   ]
  },
  {
   "cell_type": "markdown",
   "metadata": {},
   "source": [
    "## Exploratory Analysis and Visualization\n",
    "![](https://lh3.googleusercontent.com/cVM95w1ZMI3wJov2-gjgdCPuoHvr_XBFHiJDeV80AxNJtu2v2kPTKVs655b7IsyW00oAbs_2cWAosulaJLMv=w1366-h657-rw)"
   ]
  },
  {
   "cell_type": "markdown",
   "metadata": {
    "heading_collapsed": true
   },
   "source": [
    "### Overview of the Dataset\n",
    "These are the 4 type of data-frames which will be used in getting insights and visualizing the data."
   ]
  },
  {
   "cell_type": "code",
   "execution_count": 28,
   "metadata": {
    "hidden": true
   },
   "outputs": [
    {
     "data": {
      "text/html": [
       "<div>\n",
       "<style scoped>\n",
       "    .dataframe tbody tr th:only-of-type {\n",
       "        vertical-align: middle;\n",
       "    }\n",
       "\n",
       "    .dataframe tbody tr th {\n",
       "        vertical-align: top;\n",
       "    }\n",
       "\n",
       "    .dataframe thead th {\n",
       "        text-align: right;\n",
       "    }\n",
       "</style>\n",
       "<table border=\"1\" class=\"dataframe\">\n",
       "  <thead>\n",
       "    <tr style=\"text-align: right;\">\n",
       "      <th></th>\n",
       "      <th>Round</th>\n",
       "      <th>Grand_Prix</th>\n",
       "      <th>Pole_Position</th>\n",
       "      <th>Fastest_Lap</th>\n",
       "      <th>Winning_Driver</th>\n",
       "      <th>Winning_Constructor</th>\n",
       "    </tr>\n",
       "  </thead>\n",
       "  <tbody>\n",
       "    <tr>\n",
       "      <th>0</th>\n",
       "      <td>1</td>\n",
       "      <td>Bahrain Grand Prix</td>\n",
       "      <td>Max Verstappen</td>\n",
       "      <td>Valtteri Bottas</td>\n",
       "      <td>Lewis Hamilton</td>\n",
       "      <td>Mercedes</td>\n",
       "    </tr>\n",
       "    <tr>\n",
       "      <th>1</th>\n",
       "      <td>2</td>\n",
       "      <td>Emilia Romagna Grand Prix</td>\n",
       "      <td>Lewis Hamilton</td>\n",
       "      <td>Lewis Hamilton</td>\n",
       "      <td>Max Verstappen</td>\n",
       "      <td>Red Bull Racing-Honda</td>\n",
       "    </tr>\n",
       "    <tr>\n",
       "      <th>2</th>\n",
       "      <td>3</td>\n",
       "      <td>Portuguese Grand Prix</td>\n",
       "      <td>Valtteri Bottas</td>\n",
       "      <td>Valtteri Bottas</td>\n",
       "      <td>Lewis Hamilton</td>\n",
       "      <td>Mercedes</td>\n",
       "    </tr>\n",
       "    <tr>\n",
       "      <th>3</th>\n",
       "      <td>4</td>\n",
       "      <td>Spanish Grand Prix</td>\n",
       "      <td>Lewis Hamilton</td>\n",
       "      <td>Max Verstappen</td>\n",
       "      <td>Lewis Hamilton</td>\n",
       "      <td>Mercedes</td>\n",
       "    </tr>\n",
       "    <tr>\n",
       "      <th>4</th>\n",
       "      <td>5</td>\n",
       "      <td>Monaco Grand Prix</td>\n",
       "      <td>Charles Leclerc</td>\n",
       "      <td>Lewis Hamilton</td>\n",
       "      <td>Max Verstappen</td>\n",
       "      <td>Red Bull Racing-Honda</td>\n",
       "    </tr>\n",
       "  </tbody>\n",
       "</table>\n",
       "</div>"
      ],
      "text/plain": [
       "   Round                 Grand_Prix    Pole_Position      Fastest_Lap  \\\n",
       "0      1         Bahrain Grand Prix   Max Verstappen  Valtteri Bottas   \n",
       "1      2  Emilia Romagna Grand Prix   Lewis Hamilton   Lewis Hamilton   \n",
       "2      3      Portuguese Grand Prix  Valtteri Bottas  Valtteri Bottas   \n",
       "3      4         Spanish Grand Prix   Lewis Hamilton   Max Verstappen   \n",
       "4      5          Monaco Grand Prix  Charles Leclerc   Lewis Hamilton   \n",
       "\n",
       "   Winning_Driver    Winning_Constructor  \n",
       "0  Lewis Hamilton               Mercedes  \n",
       "1  Max Verstappen  Red Bull Racing-Honda  \n",
       "2  Lewis Hamilton               Mercedes  \n",
       "3  Lewis Hamilton               Mercedes  \n",
       "4  Max Verstappen  Red Bull Racing-Honda  "
      ]
     },
     "execution_count": 28,
     "metadata": {},
     "output_type": "execute_result"
    }
   ],
   "source": [
    "season[0]['race'].head()"
   ]
  },
  {
   "cell_type": "code",
   "execution_count": 29,
   "metadata": {
    "hidden": true
   },
   "outputs": [
    {
     "data": {
      "text/html": [
       "<div>\n",
       "<style scoped>\n",
       "    .dataframe tbody tr th:only-of-type {\n",
       "        vertical-align: middle;\n",
       "    }\n",
       "\n",
       "    .dataframe tbody tr th {\n",
       "        vertical-align: top;\n",
       "    }\n",
       "\n",
       "    .dataframe thead th {\n",
       "        text-align: right;\n",
       "    }\n",
       "</style>\n",
       "<table border=\"1\" class=\"dataframe\">\n",
       "  <thead>\n",
       "    <tr style=\"text-align: right;\">\n",
       "      <th></th>\n",
       "      <th>No</th>\n",
       "      <th>Driver</th>\n",
       "      <th>Constructor</th>\n",
       "      <th>Q1</th>\n",
       "      <th>Q2</th>\n",
       "      <th>Q3</th>\n",
       "      <th>Finalgrid</th>\n",
       "    </tr>\n",
       "  </thead>\n",
       "  <tbody>\n",
       "    <tr>\n",
       "      <th>0</th>\n",
       "      <td>33</td>\n",
       "      <td>Max Verstappen</td>\n",
       "      <td>Red Bull Racing-Honda</td>\n",
       "      <td>1:30.499</td>\n",
       "      <td>1:30.318</td>\n",
       "      <td>1:28.997</td>\n",
       "      <td>1.0</td>\n",
       "    </tr>\n",
       "    <tr>\n",
       "      <th>1</th>\n",
       "      <td>44</td>\n",
       "      <td>Lewis Hamilton</td>\n",
       "      <td>Mercedes</td>\n",
       "      <td>1:30.617</td>\n",
       "      <td>1:30.085</td>\n",
       "      <td>1:29.385</td>\n",
       "      <td>2.0</td>\n",
       "    </tr>\n",
       "    <tr>\n",
       "      <th>2</th>\n",
       "      <td>77</td>\n",
       "      <td>Valtteri Bottas</td>\n",
       "      <td>Mercedes</td>\n",
       "      <td>1:31.200</td>\n",
       "      <td>1:30.186</td>\n",
       "      <td>1:29.586</td>\n",
       "      <td>3.0</td>\n",
       "    </tr>\n",
       "    <tr>\n",
       "      <th>3</th>\n",
       "      <td>16</td>\n",
       "      <td>Charles Leclerc</td>\n",
       "      <td>Ferrari</td>\n",
       "      <td>1:30.691</td>\n",
       "      <td>1:30.010</td>\n",
       "      <td>1:29.678</td>\n",
       "      <td>4.0</td>\n",
       "    </tr>\n",
       "    <tr>\n",
       "      <th>4</th>\n",
       "      <td>10</td>\n",
       "      <td>Pierre Gasly</td>\n",
       "      <td>AlphaTauri-Honda</td>\n",
       "      <td>1:30.848</td>\n",
       "      <td>1:30.513</td>\n",
       "      <td>1:29.809</td>\n",
       "      <td>5.0</td>\n",
       "    </tr>\n",
       "  </tbody>\n",
       "</table>\n",
       "</div>"
      ],
      "text/plain": [
       "   No           Driver            Constructor        Q1        Q2        Q3  \\\n",
       "0  33   Max Verstappen  Red Bull Racing-Honda  1:30.499  1:30.318  1:28.997   \n",
       "1  44   Lewis Hamilton               Mercedes  1:30.617  1:30.085  1:29.385   \n",
       "2  77  Valtteri Bottas               Mercedes  1:31.200  1:30.186  1:29.586   \n",
       "3  16  Charles Leclerc                Ferrari  1:30.691  1:30.010  1:29.678   \n",
       "4  10     Pierre Gasly       AlphaTauri-Honda  1:30.848  1:30.513  1:29.809   \n",
       "\n",
       "   Finalgrid  \n",
       "0        1.0  \n",
       "1        2.0  \n",
       "2        3.0  \n",
       "3        4.0  \n",
       "4        5.0  "
      ]
     },
     "execution_count": 29,
     "metadata": {},
     "output_type": "execute_result"
    }
   ],
   "source": [
    "season[1]['qual'].head()"
   ]
  },
  {
   "cell_type": "code",
   "execution_count": 30,
   "metadata": {
    "hidden": true
   },
   "outputs": [
    {
     "data": {
      "text/html": [
       "<div>\n",
       "<style scoped>\n",
       "    .dataframe tbody tr th:only-of-type {\n",
       "        vertical-align: middle;\n",
       "    }\n",
       "\n",
       "    .dataframe tbody tr th {\n",
       "        vertical-align: top;\n",
       "    }\n",
       "\n",
       "    .dataframe thead th {\n",
       "        text-align: right;\n",
       "    }\n",
       "</style>\n",
       "<table border=\"1\" class=\"dataframe\">\n",
       "  <thead>\n",
       "    <tr style=\"text-align: right;\">\n",
       "      <th></th>\n",
       "      <th>Pos.</th>\n",
       "      <th>No.</th>\n",
       "      <th>Driver</th>\n",
       "      <th>Constructor</th>\n",
       "      <th>Laps</th>\n",
       "      <th>Time/Retired</th>\n",
       "      <th>Grid</th>\n",
       "      <th>Points</th>\n",
       "      <th>Finalgrid</th>\n",
       "    </tr>\n",
       "  </thead>\n",
       "  <tbody>\n",
       "    <tr>\n",
       "      <th>0</th>\n",
       "      <td>1</td>\n",
       "      <td>33</td>\n",
       "      <td>Max Verstappen</td>\n",
       "      <td>Red Bull Racing-Honda</td>\n",
       "      <td>17.0</td>\n",
       "      <td>25:38.426</td>\n",
       "      <td>2</td>\n",
       "      <td>3.0</td>\n",
       "      <td>1</td>\n",
       "    </tr>\n",
       "    <tr>\n",
       "      <th>1</th>\n",
       "      <td>2</td>\n",
       "      <td>44</td>\n",
       "      <td>Lewis Hamilton</td>\n",
       "      <td>Mercedes</td>\n",
       "      <td>17.0</td>\n",
       "      <td>+1.430</td>\n",
       "      <td>1</td>\n",
       "      <td>2.0</td>\n",
       "      <td>2</td>\n",
       "    </tr>\n",
       "    <tr>\n",
       "      <th>2</th>\n",
       "      <td>3</td>\n",
       "      <td>77</td>\n",
       "      <td>Valtteri Bottas</td>\n",
       "      <td>Mercedes</td>\n",
       "      <td>17.0</td>\n",
       "      <td>+7.502</td>\n",
       "      <td>3</td>\n",
       "      <td>1.0</td>\n",
       "      <td>3</td>\n",
       "    </tr>\n",
       "    <tr>\n",
       "      <th>3</th>\n",
       "      <td>4</td>\n",
       "      <td>16</td>\n",
       "      <td>Charles Leclerc</td>\n",
       "      <td>Ferrari</td>\n",
       "      <td>17.0</td>\n",
       "      <td>+11.278</td>\n",
       "      <td>4</td>\n",
       "      <td>NaN</td>\n",
       "      <td>4</td>\n",
       "    </tr>\n",
       "    <tr>\n",
       "      <th>4</th>\n",
       "      <td>5</td>\n",
       "      <td>4</td>\n",
       "      <td>Lando Norris</td>\n",
       "      <td>McLaren-Mercedes</td>\n",
       "      <td>17.0</td>\n",
       "      <td>+24.111</td>\n",
       "      <td>6</td>\n",
       "      <td>NaN</td>\n",
       "      <td>5</td>\n",
       "    </tr>\n",
       "  </tbody>\n",
       "</table>\n",
       "</div>"
      ],
      "text/plain": [
       "   Pos.  No.           Driver            Constructor  Laps Time/Retired  Grid  \\\n",
       "0     1   33   Max Verstappen  Red Bull Racing-Honda  17.0    25:38.426     2   \n",
       "1     2   44   Lewis Hamilton               Mercedes  17.0       +1.430     1   \n",
       "2     3   77  Valtteri Bottas               Mercedes  17.0       +7.502     3   \n",
       "3     4   16  Charles Leclerc                Ferrari  17.0      +11.278     4   \n",
       "4     5    4     Lando Norris       McLaren-Mercedes  17.0      +24.111     6   \n",
       "\n",
       "   Points Finalgrid  \n",
       "0     3.0         1  \n",
       "1     2.0         2  \n",
       "2     1.0         3  \n",
       "3     NaN         4  \n",
       "4     NaN         5  "
      ]
     },
     "execution_count": 30,
     "metadata": {},
     "output_type": "execute_result"
    }
   ],
   "source": [
    "season[10]['sprint'].head()"
   ]
  },
  {
   "cell_type": "code",
   "execution_count": 31,
   "metadata": {
    "hidden": true
   },
   "outputs": [
    {
     "data": {
      "text/html": [
       "<div>\n",
       "<style scoped>\n",
       "    .dataframe tbody tr th:only-of-type {\n",
       "        vertical-align: middle;\n",
       "    }\n",
       "\n",
       "    .dataframe tbody tr th {\n",
       "        vertical-align: top;\n",
       "    }\n",
       "\n",
       "    .dataframe thead th {\n",
       "        text-align: right;\n",
       "    }\n",
       "</style>\n",
       "<table border=\"1\" class=\"dataframe\">\n",
       "  <thead>\n",
       "    <tr style=\"text-align: right;\">\n",
       "      <th></th>\n",
       "      <th>Pos</th>\n",
       "      <th>No</th>\n",
       "      <th>Driver</th>\n",
       "      <th>Constructor</th>\n",
       "      <th>Laps</th>\n",
       "      <th>Time/Retired</th>\n",
       "      <th>Grid</th>\n",
       "      <th>Points</th>\n",
       "    </tr>\n",
       "  </thead>\n",
       "  <tbody>\n",
       "    <tr>\n",
       "      <th>0</th>\n",
       "      <td>1</td>\n",
       "      <td>44</td>\n",
       "      <td>Lewis Hamilton</td>\n",
       "      <td>Mercedes</td>\n",
       "      <td>56.0</td>\n",
       "      <td>1:32:03.897</td>\n",
       "      <td>2</td>\n",
       "      <td>25.0</td>\n",
       "    </tr>\n",
       "    <tr>\n",
       "      <th>1</th>\n",
       "      <td>2</td>\n",
       "      <td>33</td>\n",
       "      <td>Max Verstappen</td>\n",
       "      <td>Red Bull Racing-Honda</td>\n",
       "      <td>56.0</td>\n",
       "      <td>+0.745</td>\n",
       "      <td>1</td>\n",
       "      <td>18.0</td>\n",
       "    </tr>\n",
       "    <tr>\n",
       "      <th>2</th>\n",
       "      <td>3</td>\n",
       "      <td>77</td>\n",
       "      <td>Valtteri Bottas</td>\n",
       "      <td>Mercedes</td>\n",
       "      <td>56.0</td>\n",
       "      <td>+37.383</td>\n",
       "      <td>3</td>\n",
       "      <td>16.0</td>\n",
       "    </tr>\n",
       "    <tr>\n",
       "      <th>3</th>\n",
       "      <td>4</td>\n",
       "      <td>4</td>\n",
       "      <td>Lando Norris</td>\n",
       "      <td>McLaren-Mercedes</td>\n",
       "      <td>56.0</td>\n",
       "      <td>+46.466</td>\n",
       "      <td>7</td>\n",
       "      <td>12.0</td>\n",
       "    </tr>\n",
       "    <tr>\n",
       "      <th>4</th>\n",
       "      <td>5</td>\n",
       "      <td>11</td>\n",
       "      <td>Sergio Pérez</td>\n",
       "      <td>Red Bull Racing-Honda</td>\n",
       "      <td>56.0</td>\n",
       "      <td>+52.047</td>\n",
       "      <td>PL</td>\n",
       "      <td>10.0</td>\n",
       "    </tr>\n",
       "  </tbody>\n",
       "</table>\n",
       "</div>"
      ],
      "text/plain": [
       "  Pos  No           Driver            Constructor  Laps Time/Retired Grid  \\\n",
       "0   1  44   Lewis Hamilton               Mercedes  56.0  1:32:03.897    2   \n",
       "1   2  33   Max Verstappen  Red Bull Racing-Honda  56.0       +0.745    1   \n",
       "2   3  77  Valtteri Bottas               Mercedes  56.0      +37.383    3   \n",
       "3   4   4     Lando Norris       McLaren-Mercedes  56.0      +46.466    7   \n",
       "4   5  11     Sergio Pérez  Red Bull Racing-Honda  56.0      +52.047   PL   \n",
       "\n",
       "   Points  \n",
       "0    25.0  \n",
       "1    18.0  \n",
       "2    16.0  \n",
       "3    12.0  \n",
       "4    10.0  "
      ]
     },
     "execution_count": 31,
     "metadata": {},
     "output_type": "execute_result"
    }
   ],
   "source": [
    "season[1]['race'].head()"
   ]
  },
  {
   "cell_type": "markdown",
   "metadata": {},
   "source": [
    "### Analyzing the Overall Season Statistics"
   ]
  },
  {
   "cell_type": "code",
   "execution_count": 32,
   "metadata": {},
   "outputs": [
    {
     "data": {
      "text/html": [
       "<div>\n",
       "<style scoped>\n",
       "    .dataframe tbody tr th:only-of-type {\n",
       "        vertical-align: middle;\n",
       "    }\n",
       "\n",
       "    .dataframe tbody tr th {\n",
       "        vertical-align: top;\n",
       "    }\n",
       "\n",
       "    .dataframe thead th {\n",
       "        text-align: right;\n",
       "    }\n",
       "</style>\n",
       "<table border=\"1\" class=\"dataframe\">\n",
       "  <thead>\n",
       "    <tr style=\"text-align: right;\">\n",
       "      <th></th>\n",
       "      <th>Round</th>\n",
       "      <th>Grand_Prix</th>\n",
       "      <th>Pole_Position</th>\n",
       "      <th>Fastest_Lap</th>\n",
       "      <th>Winning_Driver</th>\n",
       "      <th>Winning_Constructor</th>\n",
       "    </tr>\n",
       "  </thead>\n",
       "  <tbody>\n",
       "    <tr>\n",
       "      <th>0</th>\n",
       "      <td>1</td>\n",
       "      <td>Bahrain Grand Prix</td>\n",
       "      <td>Max Verstappen</td>\n",
       "      <td>Valtteri Bottas</td>\n",
       "      <td>Lewis Hamilton</td>\n",
       "      <td>Mercedes</td>\n",
       "    </tr>\n",
       "    <tr>\n",
       "      <th>1</th>\n",
       "      <td>2</td>\n",
       "      <td>Emilia Romagna Grand Prix</td>\n",
       "      <td>Lewis Hamilton</td>\n",
       "      <td>Lewis Hamilton</td>\n",
       "      <td>Max Verstappen</td>\n",
       "      <td>Red Bull Racing-Honda</td>\n",
       "    </tr>\n",
       "    <tr>\n",
       "      <th>2</th>\n",
       "      <td>3</td>\n",
       "      <td>Portuguese Grand Prix</td>\n",
       "      <td>Valtteri Bottas</td>\n",
       "      <td>Valtteri Bottas</td>\n",
       "      <td>Lewis Hamilton</td>\n",
       "      <td>Mercedes</td>\n",
       "    </tr>\n",
       "    <tr>\n",
       "      <th>3</th>\n",
       "      <td>4</td>\n",
       "      <td>Spanish Grand Prix</td>\n",
       "      <td>Lewis Hamilton</td>\n",
       "      <td>Max Verstappen</td>\n",
       "      <td>Lewis Hamilton</td>\n",
       "      <td>Mercedes</td>\n",
       "    </tr>\n",
       "    <tr>\n",
       "      <th>4</th>\n",
       "      <td>5</td>\n",
       "      <td>Monaco Grand Prix</td>\n",
       "      <td>Charles Leclerc</td>\n",
       "      <td>Lewis Hamilton</td>\n",
       "      <td>Max Verstappen</td>\n",
       "      <td>Red Bull Racing-Honda</td>\n",
       "    </tr>\n",
       "  </tbody>\n",
       "</table>\n",
       "</div>"
      ],
      "text/plain": [
       "   Round                 Grand_Prix    Pole_Position      Fastest_Lap  \\\n",
       "0      1         Bahrain Grand Prix   Max Verstappen  Valtteri Bottas   \n",
       "1      2  Emilia Romagna Grand Prix   Lewis Hamilton   Lewis Hamilton   \n",
       "2      3      Portuguese Grand Prix  Valtteri Bottas  Valtteri Bottas   \n",
       "3      4         Spanish Grand Prix   Lewis Hamilton   Max Verstappen   \n",
       "4      5          Monaco Grand Prix  Charles Leclerc   Lewis Hamilton   \n",
       "\n",
       "   Winning_Driver    Winning_Constructor  \n",
       "0  Lewis Hamilton               Mercedes  \n",
       "1  Max Verstappen  Red Bull Racing-Honda  \n",
       "2  Lewis Hamilton               Mercedes  \n",
       "3  Lewis Hamilton               Mercedes  \n",
       "4  Max Verstappen  Red Bull Racing-Honda  "
      ]
     },
     "execution_count": 32,
     "metadata": {},
     "output_type": "execute_result"
    }
   ],
   "source": [
    "season[0]['race'].head()"
   ]
  },
  {
   "cell_type": "markdown",
   "metadata": {
    "heading_collapsed": true
   },
   "source": [
    "##### Objective:\n",
    ">Total Number of Races in 2021 Season"
   ]
  },
  {
   "cell_type": "code",
   "execution_count": 33,
   "metadata": {
    "hidden": true
   },
   "outputs": [
    {
     "name": "stdout",
     "output_type": "stream",
     "text": [
      "A total of 22 Grand Prixes were held in 2021 season\n"
     ]
    }
   ],
   "source": [
    "print(\"A total of {} Grand Prixes were held in 2021 season\".format(season[0]['race'].shape[0]))\n",
    "# total_gps,c=season[0]['race'].shape"
   ]
  },
  {
   "cell_type": "markdown",
   "metadata": {
    "heading_collapsed": true
   },
   "source": [
    "##### Objective: \n",
    ">The driver with most number of wins and also the constructor with most wins."
   ]
  },
  {
   "cell_type": "code",
   "execution_count": 34,
   "metadata": {
    "hidden": true,
    "scrolled": true
   },
   "outputs": [
    {
     "data": {
      "text/plain": [
       "Winning_Driver\n",
       "Max Verstappen      10\n",
       "Lewis Hamilton       8\n",
       "Daniel Ricciardo     1\n",
       "Esteban Ocon         1\n",
       "Sergio Pérez         1\n",
       "Valtteri Bottas      1\n",
       "dtype: int64"
      ]
     },
     "execution_count": 34,
     "metadata": {},
     "output_type": "execute_result"
    }
   ],
   "source": [
    "season[0]['race'].groupby('Winning_Driver').size().sort_values(ascending=False)\n",
    "#Total_race_wins_driver_df=season[0]['race'].groupby('Winning_Driver')[['Round']].count().sort_values('Round',ascending=False)\n",
    "#Total_race_wins_driver_df.columns=['Count']\n",
    "#Total_race_wins_driver_df"
   ]
  },
  {
   "cell_type": "code",
   "execution_count": 35,
   "metadata": {
    "hidden": true
   },
   "outputs": [
    {
     "data": {
      "text/plain": [
       "Winning_Constructor\n",
       "Red Bull Racing-Honda    11\n",
       "Mercedes                  9\n",
       "Alpine-Renault            1\n",
       "McLaren-Mercedes          1\n",
       "dtype: int64"
      ]
     },
     "execution_count": 35,
     "metadata": {},
     "output_type": "execute_result"
    }
   ],
   "source": [
    "construct=season[0]['race'].groupby('Winning_Constructor').size().sort_values(ascending=False)\n",
    "construct"
   ]
  },
  {
   "cell_type": "code",
   "execution_count": 59,
   "metadata": {
    "hidden": true
   },
   "outputs": [
    {
     "data": {
      "image/png": "[encoded data removed]",
      "text/plain": [
       "<Figure size 648x360 with 1 Axes>"
      ]
     },
     "metadata": {
      "needs_background": "light"
     },
     "output_type": "display_data"
    }
   ],
   "source": [
    "temp=list(construct.index)\n",
    "x = np.arange(0,13)\n",
    "plt.bar_label(plt.bar(temp,construct,width,label='Pole Position'),padding=3)\n",
    "plt.yticks(x);"
   ]
  },
  {
   "cell_type": "markdown",
   "metadata": {
    "hidden": true
   },
   "source": [
    "**Conclusion:** \n",
    "> We can see that **`Max Verstappen`** won the most races (10 Race Wins) followed by **`Lewis Hamilton`** (8 Race Wins)\n",
    "\n",
    "> **`Red Bull Racing-Honda`** won the most races with 11 race wins followed by **`Mercedes`** with 9 race wins"
   ]
  },
  {
   "cell_type": "markdown",
   "metadata": {
    "heading_collapsed": true
   },
   "source": [
    "##### Objective: \n",
    ">The driver with most number of fastest laps"
   ]
  },
  {
   "cell_type": "code",
   "execution_count": 37,
   "metadata": {
    "hidden": true
   },
   "outputs": [
    {
     "data": {
      "text/plain": [
       "Fastest_Lap\n",
       "Lewis Hamilton      6\n",
       "Max Verstappen      6\n",
       "Valtteri Bottas     4\n",
       "Sergio Pérez        2\n",
       "Daniel Ricciardo    1\n",
       "Lando Norris        1\n",
       "None Recognised     1\n",
       "Pierre Gasly        1\n",
       "dtype: int64"
      ]
     },
     "execution_count": 37,
     "metadata": {},
     "output_type": "execute_result"
    }
   ],
   "source": [
    "season[0]['race'].groupby('Fastest_Lap').size().sort_values(ascending=False)"
   ]
  },
  {
   "cell_type": "markdown",
   "metadata": {
    "hidden": true
   },
   "source": [
    "**Conclusion:**\n",
    "> `Lewis Hamilton` and `Max Verstappen` both claims the most number of fastest lap in the final race of the GP.\n"
   ]
  },
  {
   "cell_type": "markdown",
   "metadata": {
    "heading_collapsed": true
   },
   "source": [
    "##### Objective: \n",
    ">How many drivers claims the pole position in penultimate stage of Qualifying session? Whether a pole position holder wins the race or not?"
   ]
  },
  {
   "cell_type": "code",
   "execution_count": 38,
   "metadata": {
    "hidden": true
   },
   "outputs": [
    {
     "name": "stdout",
     "output_type": "stream",
     "text": [
      "Out of 22 races, the total races in which a pole position holder wins the race are 11, implying that only 50% races were won by the pole position holders\n"
     ]
    }
   ],
   "source": [
    "count=0\n",
    "for i in range(0,22):\n",
    "    if(season[0]['race'].Pole_Position[i]==season[0]['race'].Winning_Driver[i]):\n",
    "        count=count+1;\n",
    "        \n",
    "print(\"Out of 22 races, the total races in which a pole position holder wins the race are {}, implying that only {:.0f}% races were won by the pole position holders\".format(count,(count/22)*100))"
   ]
  },
  {
   "cell_type": "code",
   "execution_count": 61,
   "metadata": {
    "hidden": true
   },
   "outputs": [],
   "source": [
    "overall_final_df=season[0]['race'].copy()\n",
    "overall_final_df['pole_won']=(overall_final_df.Pole_Position==overall_final_df.Winning_Driver)"
   ]
  },
  {
   "cell_type": "code",
   "execution_count": 63,
   "metadata": {
    "hidden": true
   },
   "outputs": [
    {
     "data": {
      "text/plain": [
       "Pole_Position\n",
       "Max Verstappen     10\n",
       "Lewis Hamilton      5\n",
       "Valtteri Bottas     4\n",
       "Charles Leclerc     2\n",
       "Lando Norris        1\n",
       "dtype: int64"
      ]
     },
     "execution_count": 63,
     "metadata": {},
     "output_type": "execute_result"
    }
   ],
   "source": [
    "temp1_df=season[0]['race'].groupby('Pole_Position').size().sort_values(ascending=False)\n",
    "temp1_df"
   ]
  },
  {
   "cell_type": "code",
   "execution_count": 64,
   "metadata": {
    "hidden": true
   },
   "outputs": [
    {
     "data": {
      "text/html": [
       "<div>\n",
       "<style scoped>\n",
       "    .dataframe tbody tr th:only-of-type {\n",
       "        vertical-align: middle;\n",
       "    }\n",
       "\n",
       "    .dataframe tbody tr th {\n",
       "        vertical-align: top;\n",
       "    }\n",
       "\n",
       "    .dataframe thead th {\n",
       "        text-align: right;\n",
       "    }\n",
       "</style>\n",
       "<table border=\"1\" class=\"dataframe\">\n",
       "  <thead>\n",
       "    <tr style=\"text-align: right;\">\n",
       "      <th></th>\n",
       "      <th>pole_won</th>\n",
       "    </tr>\n",
       "    <tr>\n",
       "      <th>Pole_Position</th>\n",
       "      <th></th>\n",
       "    </tr>\n",
       "  </thead>\n",
       "  <tbody>\n",
       "    <tr>\n",
       "      <th>Max Verstappen</th>\n",
       "      <td>7</td>\n",
       "    </tr>\n",
       "    <tr>\n",
       "      <th>Lewis Hamilton</th>\n",
       "      <td>3</td>\n",
       "    </tr>\n",
       "    <tr>\n",
       "      <th>Valtteri Bottas</th>\n",
       "      <td>1</td>\n",
       "    </tr>\n",
       "    <tr>\n",
       "      <th>Charles Leclerc</th>\n",
       "      <td>0</td>\n",
       "    </tr>\n",
       "    <tr>\n",
       "      <th>Lando Norris</th>\n",
       "      <td>0</td>\n",
       "    </tr>\n",
       "  </tbody>\n",
       "</table>\n",
       "</div>"
      ],
      "text/plain": [
       "                 pole_won\n",
       "Pole_Position            \n",
       "Max Verstappen          7\n",
       "Lewis Hamilton          3\n",
       "Valtteri Bottas         1\n",
       "Charles Leclerc         0\n",
       "Lando Norris            0"
      ]
     },
     "execution_count": 64,
     "metadata": {},
     "output_type": "execute_result"
    }
   ],
   "source": [
    "temp2_df=overall_final_df.groupby('Pole_Position')[['pole_won']].sum().sort_values('pole_won',ascending=False)\n",
    "temp2_df"
   ]
  },
  {
   "cell_type": "markdown",
   "metadata": {
    "hidden": true
   },
   "source": [
    "**Conclusion:**\n",
    "> We can see that `Max Verstappen` is the lead pole position holder with 10 pole positions followed by `Lewis Hamilton` with 5 pole positions. However, we can see that out of 10 pole positions for `Max`, he won in only 7 races. Similarly, out of 5 pole positions for `Lewis`, he won in only 3 races."
   ]
  },
  {
   "cell_type": "markdown",
   "metadata": {
    "hidden": true
   },
   "source": [
    "**Visualization**"
   ]
  },
  {
   "cell_type": "code",
   "execution_count": 42,
   "metadata": {
    "hidden": true
   },
   "outputs": [
    {
     "data": {
      "image/png": "[encoded data removed]",
      "text/plain": [
       "<Figure size 648x360 with 1 Axes>"
      ]
     },
     "metadata": {
      "needs_background": "light"
     },
     "output_type": "display_data"
    }
   ],
   "source": [
    "temp3=list(temp1_df.index)\n",
    "width=0.20;\n",
    "x = np.arange(len(temp3))\n",
    "plt.bar_label(plt.bar(x-width/2,temp1_df,width,label='Pole Position'),padding=3)\n",
    "plt.bar_label(plt.bar(x+width/2,temp2_df.pole_won,width,label='Following Race Win'),padding=3);\n",
    "plt.legend()\n",
    "plt.xticks(x,temp3,rotation=35)\n",
    "plt.tight_layout()\n",
    "#plt.xlabel('Drivers');"
   ]
  },
  {
   "cell_type": "markdown",
   "metadata": {},
   "source": [
    "### Analyzing the whole season in detail for Mad Max & Billion Dollar Man"
   ]
  },
  {
   "cell_type": "markdown",
   "metadata": {
    "heading_collapsed": true
   },
   "source": [
    "##### Objective:\n",
    "> Total points scored by both drivers (Max & Lewis)"
   ]
  },
  {
   "cell_type": "code",
   "execution_count": 43,
   "metadata": {
    "hidden": true,
    "scrolled": true
   },
   "outputs": [
    {
     "name": "stdout",
     "output_type": "stream",
     "text": [
      "Total points for Max Verstappen after final GP: 395.5\n",
      "Total points for Lewis Hamilton after final GP: 387.5\n"
     ]
    }
   ],
   "source": [
    "print(\"Total points for Max Verstappen after final GP: {}\".format(maxvslewis_pts_df.Max_Pts.sum()))\n",
    "print(\"Total points for Lewis Hamilton after final GP: {}\".format(maxvslewis_pts_df.Lewis_Pts.sum()))"
   ]
  },
  {
   "cell_type": "markdown",
   "metadata": {
    "hidden": true
   },
   "source": [
    "**Conclusion:**\n",
    "> Max Verstappen: `395.5` Points\n",
    "\n",
    "> Lewis Hamilton: `387.5` Points"
   ]
  },
  {
   "cell_type": "markdown",
   "metadata": {
    "heading_collapsed": true
   },
   "source": [
    "##### Objective: \n",
    "> Comparing total number of pole positions, podiums, wins for Max & Lewis"
   ]
  },
  {
   "cell_type": "code",
   "execution_count": 44,
   "metadata": {
    "hidden": true
   },
   "outputs": [],
   "source": [
    "Max_temp=[maxvslewis_pts_df.Max_Qual[maxvslewis_pts_df.Max_Qual==1].count(),maxvslewis_pts_df.Max_Pos[maxvslewis_pts_df.Max_Pos<=3].count(),maxvslewis_pts_df.Max_Pos[maxvslewis_pts_df.Max_Pos==1].count()]\n",
    "Lewis_temp=[maxvslewis_pts_df.Lewis_Qual[maxvslewis_pts_df.Lewis_Qual==1].count(),maxvslewis_pts_df.Lewis_Pos[maxvslewis_pts_df.Lewis_Pos<=3].count(),maxvslewis_pts_df.Lewis_Pos[maxvslewis_pts_df.Lewis_Pos==1].count()]"
   ]
  },
  {
   "cell_type": "code",
   "execution_count": 45,
   "metadata": {
    "hidden": true
   },
   "outputs": [
    {
     "data": {
      "image/png": "[encoded data removed]",
      "text/plain": [
       "<Figure size 720x576 with 1 Axes>"
      ]
     },
     "metadata": {
      "needs_background": "light"
     },
     "output_type": "display_data"
    }
   ],
   "source": [
    "plt.figure(figsize=(10,8))\n",
    "temp1=[\"Pole\",\"Podium\",\"Win\"]\n",
    "width=0.20;\n",
    "temp2=np.arange(0,21)\n",
    "x = np.arange(len(temp1))\n",
    "plt.bar_label(plt.bar(x-width/2,Max_temp,width,label='Max Verstappen'),padding=3)\n",
    "plt.bar_label(plt.bar(x+width/2,Lewis_temp,width,label='Lewis Hamilton'),padding=3);\n",
    "plt.legend()\n",
    "plt.xticks(x,temp1)\n",
    "plt.yticks(temp2);\n",
    "#plt.xlabel('Drivers');"
   ]
  },
  {
   "cell_type": "code",
   "execution_count": 46,
   "metadata": {
    "hidden": true,
    "scrolled": true
   },
   "outputs": [
    {
     "data": {
      "image/png": "[encoded data removed]",
      "text/plain": [
       "<Figure size 648x360 with 1 Axes>"
      ]
     },
     "metadata": {},
     "output_type": "display_data"
    }
   ],
   "source": [
    "plt.pie([10,8,4],labels=[\"Max Verstappen\",\"Lewis Hamilton\",\"Others\"],startangle=270,autopct='%1.1f%%',shadow=True);"
   ]
  },
  {
   "cell_type": "markdown",
   "metadata": {
    "hidden": true
   },
   "source": [
    "**Conclusion:**\n",
    "\n",
    "`Max` holds a total of `9 poles` in the whole season while `Lewis` holds `6 poles`. In view of podium, `Max` bags a total of `18 podiums`. `Hamilton` is just behind him with `17 podiums`. We can see that out of 22 races, 18 races were won by both Max and Lewis alone in which 10 won by `Max` and 8 won by `Lewis`."
   ]
  },
  {
   "cell_type": "markdown",
   "metadata": {
    "heading_collapsed": true
   },
   "source": [
    "##### Objective:\n",
    ">Comparison of respective positions after each GP"
   ]
  },
  {
   "cell_type": "code",
   "execution_count": 47,
   "metadata": {
    "hidden": true
   },
   "outputs": [
    {
     "data": {
      "image/png": "[encoded data removed]",
      "text/plain": [
       "<Figure size 1296x576 with 1 Axes>"
      ]
     },
     "metadata": {
      "needs_background": "light"
     },
     "output_type": "display_data"
    }
   ],
   "source": [
    "plt.figure(figsize=(18,8))\n",
    "temp=maxvslewis_pts_df.Grand_Prix.to_list()\n",
    "plt.ylim(21,0)\n",
    "temp2=np.arange(0,22)\n",
    "plt.plot(temp,maxvslewis_pts_df.Lewis_Pos,'k-o')\n",
    "plt.plot(temp,maxvslewis_pts_df.Max_Pos,'r--o')\n",
    "plt.legend([\"Lewis Hamilton\",\"Max Verstappen\"]);\n",
    "plt.tight_layout()\n",
    "plt.yticks(temp2)\n",
    "plt.xticks(temp,rotation=90);"
   ]
  },
  {
   "cell_type": "markdown",
   "metadata": {
    "heading_collapsed": true
   },
   "source": [
    "##### Objective:\n",
    ">Comparison of total points after each race"
   ]
  },
  {
   "cell_type": "code",
   "execution_count": 48,
   "metadata": {
    "hidden": true
   },
   "outputs": [
    {
     "data": {
      "image/png": "[encoded data removed]",
      "text/plain": [
       "<Figure size 1296x576 with 1 Axes>"
      ]
     },
     "metadata": {
      "needs_background": "light"
     },
     "output_type": "display_data"
    }
   ],
   "source": [
    "plt.figure(figsize=(18,8))\n",
    "temp=maxvslewis_pts_df.Grand_Prix.to_list()\n",
    "plt.plot(temp,maxvslewis_pts_df.Lewis_Pts_cum,'k-o')\n",
    "plt.plot(temp,maxvslewis_pts_df.Max_Pts_cum,'r--o')\n",
    "plt.legend([\"Lewis Hamilton\",\"Max Verstappen\"])\n",
    "plt.xticks(temp,rotation=90);"
   ]
  },
  {
   "cell_type": "markdown",
   "metadata": {
    "hidden": true
   },
   "source": [
    "**Conclusion:**\n",
    "> We can see that after the Saudi Arabian GP, the score was tie with 369.5 total championship points. The ultimate decider for the championship was the Abu Dhabi GP, which ends in a controversial manner with `Max Verstappen` emerging as winner of the `F1 2021 Championship` with just a margin of 8 points."
   ]
  },
  {
   "cell_type": "markdown",
   "metadata": {
    "heading_collapsed": true
   },
   "source": [
    "## Conclusion and Future Work\n",
    "\n",
    "In the F1 2021 season, a total of 22 GPs were organized. The Drivers Championship goes to `Red Bull Racing-Honda` driver `Max Verstappen` and the Constructors Championship goes to `Mercedes`. While our main focus was on Max and Lewis journey throughout the season, we can extend the analysis to other drivers journey also leading to interesting insights"
   ]
  },
  {
   "cell_type": "markdown",
   "metadata": {
    "heading_collapsed": true
   },
   "source": [
    "## References\n",
    "* Dataset: `wikipedia`\n",
    "    * https://en.wikipedia.org/wiki/2021_Formula_One_World_Championship\n",
    "    * https://en.wikipedia.org/wiki/2021_Bahrain_Grand_Prix\n",
    "    * https://en.wikipedia.org/wiki/2021_Emilia_Romagna_Grand_Prix\n",
    "    * https://en.wikipedia.org/wiki/2021_Portuguese_Grand_Prix\n",
    "    * https://en.wikipedia.org/wiki/2021_Spanish_Grand_Prix\n",
    "    * https://en.wikipedia.org/wiki/2021_Monaco_Grand_Prix\n",
    "    * https://en.wikipedia.org/wiki/2021_Azerbaijan_Grand_Prix\n",
    "    * https://en.wikipedia.org/wiki/2021_French_Grand_Prix\n",
    "    * https://en.wikipedia.org/wiki/2021_Styrian_Grand_Prix\n",
    "    * https://en.wikipedia.org/wiki/2021_Austrian_Grand_Prix\n",
    "    * https://en.wikipedia.org/wiki/2021_British_Grand_Prix\n",
    "    * https://en.wikipedia.org/wiki/2021_Hungarian_Grand_Prix\n",
    "    * https://en.wikipedia.org/wiki/2021_Belgian_Grand_Prix\n",
    "    * https://en.wikipedia.org/wiki/2021_Dutch_Grand_Prix\n",
    "    * https://en.wikipedia.org/wiki/2021_Italian_Grand_Prix\n",
    "    * https://en.wikipedia.org/wiki/2021_Russian_Grand_Prix\n",
    "    * https://en.wikipedia.org/wiki/2021_Turkish_Grand_Prix\n",
    "    * https://en.wikipedia.org/wiki/2021_United_States_Grand_Prix\n",
    "    * https://en.wikipedia.org/wiki/2021_Mexico_City_Grand_Prix\n",
    "    * https://en.wikipedia.org/wiki/2021_S%C3%A3o_Paulo_Grand_Prix\n",
    "    * https://en.wikipedia.org/wiki/2021_Qatar_Grand_Prix\n",
    "    * https://en.wikipedia.org/wiki/2021_Saudi_Arabian_Grand_Prix\n",
    "    * https://en.wikipedia.org/wiki/2021_Abu_Dhabi_Grand_Prix\n",
    "* Images:\n",
    "    * https://racingbabiesconnect.com/"
   ]
  },
  {
   "cell_type": "code",
   "execution_count": 66,
   "metadata": {
    "hidden": true
   },
   "outputs": [],
   "source": [
    "project_name = \"Zero2Pandas-Project-Mad-Max's-Journey-to-the-Title\""
   ]
  },
  {
   "cell_type": "code",
   "execution_count": 67,
   "metadata": {
    "hidden": true
   },
   "outputs": [],
   "source": [
    "!pip install jovian --upgrade -q"
   ]
  },
  {
   "cell_type": "code",
   "execution_count": 68,
   "metadata": {
    "hidden": true
   },
   "outputs": [],
   "source": [
    "import jovian"
   ]
  },
  {
   "cell_type": "code",
   "execution_count": 69,
   "metadata": {
    "hidden": true
   },
   "outputs": [
    {
     "data": {
      "application/javascript": [
       "window.require && require([\"base/js/namespace\"],function(Jupyter){Jupyter.notebook.save_checkpoint()})"
      ],
      "text/plain": [
       "<IPython.core.display.Javascript object>"
      ]
     },
     "metadata": {},
     "output_type": "display_data"
    },
    {
     "name": "stdout",
     "output_type": "stream",
     "text": [
      "[jovian] Creating a new project \"dudidharam12i/Zero2Pandas-Project-Mad-Max's-Journey-to-the-Title\"\u001b[0m\n",
      "[jovian] Committed successfully! https://jovian.ai/dudidharam12i/zero2pandas-project-mad-maxs-journey-to-the-title\u001b[0m\n"
     ]
    },
    {
     "data": {
      "text/plain": [
       "'https://jovian.ai/dudidharam12i/zero2pandas-project-mad-maxs-journey-to-the-title'"
      ]
     },
     "execution_count": 69,
     "metadata": {},
     "output_type": "execute_result"
    }
   ],
   "source": [
    "jovian.commit(project=project_name)"
   ]
  },
  {
   "cell_type": "code",
   "execution_count": null,
   "metadata": {
    "hidden": true
   },
   "outputs": [],
   "source": []
  }
 ],
 "metadata": {
  "language_info": {
   "codemirror_mode": {
    "name": "ipython",
    "version": 3
   },
   "file_extension": ".py",
   "mimetype": "text/x-python",
   "name": "python",
   "nbconvert_exporter": "python",
   "pygments_lexer": "ipython3",
   "version": "3.9.6"
  }
 },
 "nbformat": 4,
 "nbformat_minor": 4
}