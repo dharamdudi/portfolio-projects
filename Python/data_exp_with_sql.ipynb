{
 "cells": [
  {
   "attachments": {},
   "cell_type": "markdown",
   "id": "fc2a4fff",
   "metadata": {},
   "source": [
    "![](https://live.staticflickr.com/65535/52663424849_8939aa98f9_k.jpg)"
   ]
  },
  {
   "cell_type": "code",
   "execution_count": null,
   "id": "c687ddc5",
   "metadata": {},
   "outputs": [],
   "source": [
    "#importing libraries\n",
    "import numpy as np\n",
    "import pandas as pd\n",
    "import matplotlib\n",
    "import matplotlib.pyplot as plt\n",
    "%matplotlib inline\n",
    "import seaborn as sns\n",
    "import mysql.connector as mysql\n",
    "import warnings\n",
    "warnings.filterwarnings('ignore')"
   ]
  },
  {
   "cell_type": "code",
   "execution_count": null,
   "id": "11ac5bd8",
   "metadata": {},
   "outputs": [],
   "source": [
    "sns.set_style('darkgrid')\n",
    "matplotlib.rcParams['font.size'] = 12\n",
    "matplotlib.rcParams['figure.figsize'] = (9, 5)\n",
    "matplotlib.rcParams['figure.facecolor'] = '#00000000'"
   ]
  },
  {
   "cell_type": "code",
   "execution_count": null,
   "id": "776c5ea4",
   "metadata": {},
   "outputs": [],
   "source": [
    "#connecting to the mysql server.\n",
    "cnx = mysql.connect(\n",
    "    host=\"localhost\",\n",
    "    user=\"root\",\n",
    "    passwd=\"0710\",\n",
    "    database=\"gdb041\",\n",
    "    raise_on_warnings=True\n",
    ")\n",
    "cursor=cnx.cursor()"
   ]
  },
  {
   "cell_type": "code",
   "execution_count": null,
   "id": "21166c97",
   "metadata": {},
   "outputs": [],
   "source": [
    "#printing all the table_names in the database gdb041\n",
    "cursor.execute(\"show tables\")\n",
    "tables=cursor.fetchall()\n",
    "for i in range(0,len(tables)):\n",
    "    print(tables[i][0])"
   ]
  },
  {
   "attachments": {},
   "cell_type": "markdown",
   "id": "bf67cdf0",
   "metadata": {},
   "source": [
    "## Tables in the database (gdb041)\n",
    "\n",
    ">dim_customer: customer_code, customer, platform, channel, market, sub_zone, region\n",
    "\n",
    "contains the info about the different customers (Here the customer_code is the primary key. There are customers with many customer_codes.)\n",
    "\n",
    ">dim_product: product_code, devision, segment, category, product, variant\n",
    "\n",
    "contains the directory of all the products sold by the firm. (here the product_code is the primary key.)\n",
    "\n",
    ">fact_forecast_monthly: date, fiscal_year, product_code, customer_code, forecast_quantity\n",
    "\n",
    "contains the monthly forecast for each product_code (product_code, customer_code are the foregin keys)\n",
    "\n",
    ">fact_freight_cost: market, fiscal_year,freight_pct, other_cost_pct\n",
    "\n",
    "contains the freight and other cost of each market and fiscal_year. The freight and other cost are uniform for each product in the particular market and fiscal_year\n",
    "\n",
    ">fact_gross_price: product_code, fiscal_year, gross_price\n",
    "\n",
    "contains the gross_price of each product for each fiscal_year\n",
    "\n",
    ">fact_manufacturing_cost: product_code, cost_year, manufacturing_cost\n",
    "\n",
    "contains the manufacturing cost of each product for that particular fiscal_year\n",
    "\n",
    ">fact_post_invoice_deductions: customer_code, product_code, date, discounts_pct, other_deductions_pct\n",
    "\n",
    "contains the post invoice deductions like discounts on specific product and other deductions\n",
    "\n",
    ">fact_pre_invoice_deductions: customer_code, fiscal_year, pre_invoice_discount_pct\n",
    "\n",
    "contains the pre invoice deductions like special discount to a customer for strong relationships.\n",
    "\n",
    ">fact_sales_monthly: date, product_code, customer_code, sold_quantity\n",
    "\n",
    "contains the monthly sales data"
   ]
  },
  {
   "attachments": {},
   "cell_type": "markdown",
   "id": "c2505536",
   "metadata": {},
   "source": [
    "### Questions\n",
    "\n",
    "- Total monthly & yearly revenue by market, region, division\n",
    "- Total net monthly & yearly profit by market, region, division\n",
    "- Total deductions \n",
    "- Total sales for each fiscal year\n",
    "- Which region is underperforming\n",
    "- Revenue by fiscal year anf for the different regions\n",
    "- How many customers we have in the lsat year and which customer generated the maximum revenue and also net income\n",
    "- Contribution% in revenue of all the regions and total profit.\n",
    "- Inventory Management from forecast and monthly (historical data)\n",
    "- Profit by product category\n",
    "- Top 5 customers & prodcuts, product_category using list comprehension\n"
   ]
  },
  {
   "cell_type": "code",
   "execution_count": null,
   "id": "65d44755",
   "metadata": {},
   "outputs": [],
   "source": [
    "temp_df=pd.read_sql(\"select * from dim_customer\",cnx)\n",
    "temp_df"
   ]
  },
  {
   "cell_type": "code",
   "execution_count": null,
   "id": "1ced0620",
   "metadata": {},
   "outputs": [],
   "source": [
    "cursor.execute(\"select count(distinct customer) from dim_customer\")\n",
    "r1=cursor.fetchall()\n",
    "cursor.execute(\"select count(distinct region) from dim_customer\")\n",
    "r2=cursor.fetchall()\n",
    "print(r1[0][0],\",\",r2[0][0])"
   ]
  },
  {
   "attachments": {},
   "cell_type": "markdown",
   "id": "3a0bd7e1",
   "metadata": {},
   "source": [
    "AtliQ Hardwares has a total of 74 different customers spanning over 4 different regions."
   ]
  },
  {
   "cell_type": "code",
   "execution_count": null,
   "id": "ee68133f",
   "metadata": {},
   "outputs": [],
   "source": [
    "temp_df=pd.read_sql(\"select * from dim_product\",cnx)\n",
    "temp_df"
   ]
  },
  {
   "cell_type": "code",
   "execution_count": null,
   "id": "f1434778",
   "metadata": {},
   "outputs": [],
   "source": [
    "#total revenue and sold quantity in each fiscal_year\n",
    "query='''\n",
    "with cte1 as (select year(date_add(date, interval 4 month)) as fiscal_year, product_code, customer_code, sold_quantity\n",
    "from fact_sales_monthly)\n",
    "\n",
    "select fiscal_year, round(sum(sold_quantity)/1000000,2) as total_sold_quantity_in_millions,\n",
    "    round(sum(sold_quantity*gross_price)/1000000,2) as total_revenue_in_millions\n",
    "from cte1 \n",
    "join fact_gross_price\n",
    "using(product_code, fiscal_year)\n",
    "group by fiscal_year'''\n",
    "\n",
    "df1=pd.read_sql(query,cnx)\n"
   ]
  },
  {
   "cell_type": "code",
   "execution_count": null,
   "id": "23957df0",
   "metadata": {},
   "outputs": [],
   "source": [
    "plt.plot(df1.fiscal_year,df1.total_revenue_in_millions)\n",
    "plt.title('Total revenue in each fiscal year')\n",
    "plt.xlabel('Year'); plt.ylabel('Revenue (In Millions)');\n",
    "plt.xticks(df1.fiscal_year, df1.fiscal_year)\n",
    "plt.show()"
   ]
  },
  {
   "cell_type": "code",
   "execution_count": null,
   "id": "100b2eed",
   "metadata": {},
   "outputs": [],
   "source": [
    "plt.plot(df1.fiscal_year,df1.total_sold_quantity_in_millions)\n",
    "plt.title('Total sold quantity in each fiscal year')\n",
    "plt.xlabel('Fiscal_Year')\n",
    "plt.ylabel('Total Quantity Sold (in Millions)')\n",
    "plt.xticks(df1.fiscal_year,df1.fiscal_year)\n",
    "plt.show()"
   ]
  },
  {
   "cell_type": "code",
   "execution_count": null,
   "id": "24977d87",
   "metadata": {},
   "outputs": [],
   "source": [
    "#total revenue and sold quantity in each month\n",
    "query='''\n",
    "with cte1 as (select date_format(date,\"%b %y\") as cdate, \n",
    "\tdate, year(date_add(date, interval 4 month)) as fiscal_year, product_code, customer_code, sold_quantity\n",
    "\tfrom fact_sales_monthly),\n",
    "cte2 as (select cdate, date, fiscal_year, round(sum(sold_quantity)/1000000,2) as total_quantity_sold_in_millions, \n",
    "\t\tround(sum(sold_quantity*gross_price)/1000000,2) as total_revenue_in_millions\n",
    "\tfrom cte1 \n",
    "\tjoin fact_gross_price\n",
    "\tusing(product_code, fiscal_year)\n",
    "\tgroup by 1,2,3\n",
    "\torder by 2)\n",
    "\n",
    "select cdate as Month, total_quantity_sold_in_millions, total_revenue_in_millions\n",
    "from cte2\n",
    "'''\n",
    "df2=pd.read_sql(query,cnx)\n",
    "df2.head()"
   ]
  },
  {
   "cell_type": "code",
   "execution_count": null,
   "id": "fd925904",
   "metadata": {},
   "outputs": [],
   "source": [
    "plt.plot(df2.Month,df2.total_revenue_in_millions)\n",
    "#get current axes\n",
    "ax = plt.gca()\n",
    "#hide x-axis\n",
    "ax.get_xaxis().set_visible(False)\n",
    "plt.ylabel('Revenue for each month (in millions)')\n",
    "plt.show()"
   ]
  },
  {
   "cell_type": "code",
   "execution_count": null,
   "id": "74fafc76",
   "metadata": {},
   "outputs": [],
   "source": [
    "#created a view in db for monthly_revenue\n",
    "query='''\n",
    "ctreate \n",
    "with cte1 as (select *, year(date_add(date,interval 4 month)) as fiscal_year\n",
    "from fact_sales_monthly)\n",
    "select date, fiscal_year, product_code, customer_code, sold_quantity, sold_quantity*gross_price as revenue\n",
    "from cte1\n",
    "join fact_gross_price\n",
    "using(product_code, fiscal_year)\n",
    "'''\n",
    "cursor.execute(query)\n",
    "temp=cursor.fetchall()"
   ]
  },
  {
   "cell_type": "code",
   "execution_count": null,
   "id": "cd238dac",
   "metadata": {},
   "outputs": [],
   "source": [
    "#revenue comparison for each market\n",
    "query='''\n",
    "select market, round(sum(revenue)/1000000,2) as total_revenue\n",
    "from monthly_revenue\n",
    "join dim_customer\n",
    "using(customer_code)\n",
    "group by 1\n",
    "order by 2 desc\n",
    "'''\n",
    "df3=pd.read_sql(query,cnx)\n",
    "df3.head()"
   ]
  },
  {
   "cell_type": "code",
   "execution_count": null,
   "id": "89c267ba",
   "metadata": {},
   "outputs": [],
   "source": [
    "plt.bar(df3.market,df3.total_revenue)\n",
    "plt.ylabel(\"Total Revenue (In Millions)\")\n",
    "plt.title(\"Total revenue by market\")\n",
    "plt.xticks(df3.market,df3.market,rotation=90)\n",
    "plt.show()"
   ]
  },
  {
   "cell_type": "code",
   "execution_count": null,
   "id": "66d1f065",
   "metadata": {},
   "outputs": [],
   "source": [
    "query1='''\n",
    "select market, round(sum(revenue)/1000000,2) as total_revenue_2022\n",
    "from monthly_revenue\n",
    "join dim_customer\n",
    "using(customer_code)\n",
    "where fiscal_year=2022\n",
    "group by 1\n",
    "order by 2 desc\n",
    "'''\n",
    "query2='''\n",
    "select market, round(sum(revenue)/1000000,2) as total_revenue_2021\n",
    "from monthly_revenue\n",
    "join dim_customer\n",
    "using(customer_code)\n",
    "where fiscal_year=2021\n",
    "group by 1\n",
    "order by 2 desc\n",
    "'''\n",
    "df4=pd.read_sql(query1,cnx)\n",
    "df5=pd.read_sql(query2,cnx)\n",
    "df4['total_revenue_2021']=df5.total_revenue_2021"
   ]
  },
  {
   "cell_type": "code",
   "execution_count": null,
   "id": "24807e3f",
   "metadata": {},
   "outputs": [],
   "source": [
    "df4.head()"
   ]
  },
  {
   "cell_type": "code",
   "execution_count": null,
   "id": "7e3bc60f",
   "metadata": {},
   "outputs": [],
   "source": [
    "#revenue comparison by markets for the fiscal_year 2022 and 2021\n",
    "width=0.20\n",
    "x = np.arange(len(df4.market))\n",
    "plt.bar(x-width/2,df4.total_revenue_2021,width,label='2021')\n",
    "plt.bar(x+width/2,df4.total_revenue_2022,width,label='2022')\n",
    "plt.ylabel(\"Total Revenue (In Millions)\")\n",
    "plt.title(\"Total revenue by market in year 2021 & 2022\")\n",
    "plt.xticks(x,df4.market,rotation=90)\n",
    "plt.legend()\n",
    "plt.tight_layout()\n",
    "plt.show()"
   ]
  },
  {
   "cell_type": "code",
   "execution_count": null,
   "id": "0a5eb8dd",
   "metadata": {},
   "outputs": [],
   "source": [
    "#lowest performers for the fiscal_year 2021 and 2022\n",
    "df4.tail(5)"
   ]
  },
  {
   "cell_type": "code",
   "execution_count": null,
   "id": "4abc696c",
   "metadata": {},
   "outputs": [],
   "source": [
    "#which products generated most revenue until now\n",
    "query='''\n",
    "select product, category, round(sum(revenue)/1000000,2) as total_revenue_mln,\n",
    "\tround(sum(sold_quantity)/1000,2) as total_quantity_thsnd\n",
    "from monthly_revenue\n",
    "join dim_product\n",
    "using(product_code)\n",
    "group by 1,2\n",
    "order by 3 desc\n",
    "'''\n",
    "df5=pd.read_sql(query,cnx)\n",
    "df5.head()"
   ]
  },
  {
   "cell_type": "code",
   "execution_count": null,
   "id": "2280f353",
   "metadata": {},
   "outputs": [],
   "source": [
    "#which product sold the most number of times and also least number of times\n",
    "r1=df5[df5.total_quantity_thsnd==max(df5.total_quantity_thsnd)]\n",
    "r2=df5[df5.total_quantity_thsnd==min(df5.total_quantity_thsnd)]\n",
    "f=[r1,r2]\n",
    "r3=pd.concat(f)\n",
    "r3"
   ]
  },
  {
   "cell_type": "code",
   "execution_count": null,
   "id": "6eb58c1e",
   "metadata": {},
   "outputs": [],
   "source": [
    "#which product sold most in the fiscal_year 2022\n",
    "query='''\n",
    "select product,category, round(sum(sold_quantity)/1000,2) as total_quantity_thsnd\n",
    "from monthly_revenue\n",
    "join dim_product\n",
    "using(product_code)\n",
    "where fiscal_year=2022\n",
    "group by 1,2\n",
    "order by 3 desc\n",
    "limit 1\n",
    "'''\n",
    "cursor.execute(query)\n",
    "r4=cursor.fetchall()\n",
    "r4[0][0:2]"
   ]
  },
  {
   "cell_type": "code",
   "execution_count": null,
   "id": "f6cf7ccc",
   "metadata": {},
   "outputs": [],
   "source": [
    "#which product generated most revenue in the fiscal_year 2022\n",
    "query='''\n",
    "select product,category, round(sum(revenue)/1000000,2) as total_revenue_mln\n",
    "from monthly_revenue\n",
    "join dim_product\n",
    "using(product_code)\n",
    "where fiscal_year=2022\n",
    "group by 1,2\n",
    "order by 3 desc\n",
    "limit 1\n",
    "'''\n",
    "cursor.execute(query)\n",
    "r4=cursor.fetchall()\n",
    "r4[0][0:3]"
   ]
  },
  {
   "cell_type": "code",
   "execution_count": null,
   "id": "9abbb223",
   "metadata": {},
   "outputs": [],
   "source": [
    "#which product segement got sold most in total\n",
    "query='''\n",
    "select segment, round(sum(sold_quantity)/1000,2) as total_quantity_thsnd\n",
    "from monthly_revenue\n",
    "join dim_product\n",
    "using(product_code)\n",
    "group by 1\n",
    "order by 2 desc\n",
    "'''\n",
    "df6=pd.read_sql(query,cnx)\n",
    "df6"
   ]
  },
  {
   "cell_type": "code",
   "execution_count": null,
   "id": "c8f20b27",
   "metadata": {},
   "outputs": [],
   "source": [
    "fig = plt.figure()\n",
    "fig.patch.set_facecolor('white')\n",
    "palette_color=sns.color_palette('bright')\n",
    "plt.rcParams['text.color'] = 'black'\n",
    "plt.pie(df6.total_quantity_thsnd, labels=df6.segment, colors=palette_color, autopct='%.0f%%')\n",
    "plt.title('Breakdown of total quantity sold by segment of products')\n",
    "plt.show()"
   ]
  },
  {
   "cell_type": "code",
   "execution_count": null,
   "id": "b0537203",
   "metadata": {},
   "outputs": [],
   "source": [
    "#created a table for monthly net revenue after total deductions\n",
    "query='''\n",
    "create table `fact_net_profit`\n",
    "with cte1 as (\n",
    "select m.*,\n",
    "\trevenue*(r1.pre_invoice_discount_pct+r2.discounts_pct+r2.other_deductions_pct+r5.freight_pct+r5.other_cost_pct)+r3.manufacturing_cost as total_deduction\n",
    "from monthly_revenue m\n",
    "left join fact_pre_invoice_deductions r1\n",
    "using(customer_code, fiscal_year)\n",
    "left join fact_post_invoice_deductions r2\n",
    "using(customer_code, product_code, date)\n",
    "left join fact_manufacturing_cost r3\n",
    "on m.product_code=r3.product_code and m.fiscal_year=r3.cost_year\n",
    "left join dim_customer r4\n",
    "using(customer_code)\n",
    "left join fact_freight_cost r5\n",
    "using(market, fiscal_year))\n",
    "\n",
    "select *, revenue-total_deduction as net_revenue\n",
    "from cte1\n",
    "'''\n",
    "cursor.execute(query)\n",
    "temp=cursor.fetchall()"
   ]
  },
  {
   "cell_type": "code",
   "execution_count": null,
   "id": "4e46d90a",
   "metadata": {},
   "outputs": [],
   "source": [
    "#The total net revenue for each fiscal year\n",
    "\n",
    "query='''\n",
    "select fiscal_year, round(sum(net_revenue)/1000000,2) as total_profit\n",
    "from fact_net_profit\n",
    "group by 1\n",
    "order by 1\n",
    "'''\n",
    "temp_df=pd.read_sql(query,cnx)\n",
    "temp_df"
   ]
  },
  {
   "cell_type": "code",
   "execution_count": null,
   "id": "99183b6f",
   "metadata": {},
   "outputs": [],
   "source": [
    "#comparison between the total revenue and total net revenue after all the deductions\n",
    "df1['net_revenue_mln']=temp_df.total_profit\n",
    "df1"
   ]
  },
  {
   "cell_type": "code",
   "execution_count": null,
   "id": "f9fcd227",
   "metadata": {},
   "outputs": [],
   "source": [
    "plt.plot(df1.fiscal_year,df1.total_revenue_in_millions,label='total revenue')\n",
    "plt.plot(df1.fiscal_year,df1.net_revenue_mln,label='total profit')\n",
    "plt.title('Total Revenue vs Profit in each fiscal year')\n",
    "plt.xlabel('Year'); plt.ylabel('Revenue/Profit (In Millions)');\n",
    "plt.xticks(df1.fiscal_year, df1.fiscal_year)\n",
    "plt.legend()\n",
    "plt.show()"
   ]
  },
  {
   "cell_type": "code",
   "execution_count": null,
   "id": "6d95e033",
   "metadata": {},
   "outputs": [],
   "source": [
    "#which customer generated maximum revenue and maximum profit\n",
    "query1='''\n",
    "with cte1 as (select customer, sum(revenue) as revenue1\n",
    "    from monthly_revenue\n",
    "    join dim_customer\n",
    "    using(customer_code)\n",
    "    group by 1),\n",
    "    cte2 as (select customer, dense_rank() over(order by revenue1 desc) as rnk\n",
    "    from cte1)\n",
    "select customer\n",
    "from cte2\n",
    "where rnk=1\n",
    "'''\n",
    "\n",
    "query2='''\n",
    "with cte1 as (select customer, sum(net_revenue) as revenue1\n",
    "    from fact_net_profit\n",
    "    join dim_customer\n",
    "    using(customer_code)\n",
    "    group by 1),\n",
    "    cte2 as (select customer, dense_rank() over(order by revenue1 desc) as rnk\n",
    "    from cte1)\n",
    "select customer\n",
    "from cte2\n",
    "where rnk=1\n",
    "'''\n",
    "\n",
    "cursor.execute(query1)\n",
    "r5=cursor.fetchall()\n",
    "cursor.execute(query2)\n",
    "r6=cursor.fetchall()\n",
    "print(\"The customer with maximum net revenue is {} and with maximum net profit is {}.\".format(r5[0][0],r6[0][0]))"
   ]
  },
  {
   "cell_type": "code",
   "execution_count": null,
   "id": "e55e3ce8",
   "metadata": {},
   "outputs": [],
   "source": [
    "#which customer generated maximum revenue and maximum profit in the fiscal_year 2020\n",
    "query1='''\n",
    "with cte1 as (select customer, sum(revenue) as revenue1, sum(net_revenue) as revenue2\n",
    "    from fact_net_profit\n",
    "    join dim_customer\n",
    "    using(customer_code)\n",
    "    where fiscal_year=2020\n",
    "    group by 1),\n",
    "    cte2 as (select customer, dense_rank() over(order by revenue1 desc) as rnk, dense_rank() over(order by revenue2 desc) as drnk\n",
    "    from cte1)\n",
    "select customer\n",
    "from cte2\n",
    "where rnk=1 or drnk=1\n",
    "order by rnk\n",
    "'''\n",
    "\n",
    "cursor.execute(query1)\n",
    "r5=cursor.fetchall()\n",
    "print(\"The customer with maximum net revenue is {} and with maximum net profit is {}.\".format(r5[0][0],r5[0][0]))"
   ]
  },
  {
   "cell_type": "code",
   "execution_count": null,
   "id": "19e17fe2",
   "metadata": {},
   "outputs": [],
   "source": [
    "#total contribution in profit by market\n",
    "\n",
    "query='''\n",
    "select market, round(sum(net_revenue)/1000000,2) as revenue1\n",
    "from fact_net_profit\n",
    "join dim_customer\n",
    "using(customer_code)\n",
    "where fiscal_year=2022\n",
    "group by market\n",
    "order by 1\n",
    "'''\n",
    "temp2=pd.read_sql(query,cnx)\n",
    "temp2.head()"
   ]
  },
  {
   "cell_type": "code",
   "execution_count": null,
   "id": "e24aa750",
   "metadata": {},
   "outputs": [],
   "source": [
    "plt.bar(temp2.market,temp2.revenue1)\n",
    "plt.ylabel(\"Total Profit (In Millions)\")\n",
    "plt.title(\"Total Profit by market in fiscal year 2022\")\n",
    "plt.xticks(temp2.market,temp2.market,rotation=90)\n",
    "plt.show()"
   ]
  },
  {
   "cell_type": "code",
   "execution_count": null,
   "id": "fa6c123c",
   "metadata": {},
   "outputs": [],
   "source": [
    "#total contribution in profit by product division in fiscal year 2022\n",
    "\n",
    "query='''\n",
    "select division, round(sum(net_revenue)/1000000,2) as revenue1\n",
    "from fact_net_profit\n",
    "join dim_product\n",
    "using(product_code)\n",
    "where fiscal_year=2022\n",
    "group by 1\n",
    "order by 1\n",
    "'''\n",
    "temp2=pd.read_sql(query,cnx)\n",
    "temp2.head()"
   ]
  },
  {
   "cell_type": "code",
   "execution_count": null,
   "id": "a0d145e2",
   "metadata": {},
   "outputs": [],
   "source": [
    "fig = plt.figure()\n",
    "fig.patch.set_facecolor('white')\n",
    "palette_color=sns.color_palette('bright')\n",
    "plt.rcParams['text.color'] = 'black'\n",
    "plt.pie(temp2.revenue1, labels=temp2.division, colors=palette_color, autopct='%.0f%%')\n",
    "plt.title('Breakdown of total profit by product division in 2022')\n",
    "plt.show()"
   ]
  },
  {
   "cell_type": "code",
   "execution_count": null,
   "id": "a0ef6baf",
   "metadata": {},
   "outputs": [],
   "source": [
    "# loss or no profit sections\n",
    "query='''\n",
    "select market,sum(abs(forecast_quantity-cast(sold_quantity as signed)))/sum(sold_quantity) as forecast_error_pct\n",
    "from fact_sales_monthly\n",
    "join fact_forecast_monthly\n",
    "using (date, product_code, customer_code)\n",
    "join dim_customer\n",
    "using(customer_code)\n",
    "group by 1\n",
    "order by 1\n",
    "'''\n",
    "forecast_df=pd.read_sql(query,cnx)\n",
    "forecast_df"
   ]
  }
 ],
 "metadata": {
  "kernelspec": {
   "display_name": "Python 3",
   "language": "python",
   "name": "python3"
  },
  "language_info": {
   "codemirror_mode": {
    "name": "ipython",
    "version": 3
   },
   "file_extension": ".py",
   "mimetype": "text/x-python",
   "name": "python",
   "nbconvert_exporter": "python",
   "pygments_lexer": "ipython3",
   "version": "3.11.1 (tags/v3.11.1:a7a450f, Dec  6 2022, 19:58:39) [MSC v.1934 64 bit (AMD64)]"
  },
  "vscode": {
   "interpreter": {
    "hash": "9a4d3b540d6f4bcb6a9b00117c6701106ec33664dfe845173fe28ae119f8c916"
   }
  }
 },
 "nbformat": 4,
 "nbformat_minor": 5
}
